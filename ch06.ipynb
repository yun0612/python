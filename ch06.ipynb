{
 "cells": [
  {
   "cell_type": "markdown",
   "metadata": {},
   "source": [
    "## 모듈\n",
    "\n",
    "`import 모듈명`\n",
    "- `모듈.함수()` 로 함수 사용\n",
    "- `import 모듈명 as 별명` 으로 모듈명을 줄여서 사용 가능\n",
    "\n",
    "`from 모듈 import 함수`\n",
    "- `함수()` 로 앞에 모듈명 없이 함수 사용 가능"
   ]
  }
 ],
 "metadata": {
  "kernelspec": {
   "display_name": "Python 3",
   "language": "python",
   "name": "python3"
  },
  "language_info": {
   "name": "python",
   "version": "3.13.0"
  }
 },
 "nbformat": 4,
 "nbformat_minor": 2
}
