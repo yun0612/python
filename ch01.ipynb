{
 "cells": [
  {
   "cell_type": "code",
   "execution_count": null,
   "metadata": {},
   "outputs": [],
   "source": [
    "# 대화식 interactive 모드 : 프롬프트를 사용해 코드 실행\n",
    "# 스크립트 script 모드 : 텍스트 파일을 사용해 코드 실행"
   ]
  },
  {
   "cell_type": "markdown",
   "metadata": {},
   "source": [
    "## input()\n",
    "\n",
    "키보드로 입력한 값을 문자열로 저장"
   ]
  },
  {
   "cell_type": "code",
   "execution_count": null,
   "metadata": {},
   "outputs": [
    {
     "name": "stdout",
     "output_type": "stream",
     "text": [
      "10\n"
     ]
    }
   ],
   "source": [
    "# 숫자는 int() 또는 float()로 변환해줘야 함\n",
    "# 괄호 안에 문자열 입력하면 프롬프트에 안내 문구 표시\n",
    "number = int(input(\"숫자를 입력하세요\"))\n",
    "print(number)"
   ]
  },
  {
   "cell_type": "markdown",
   "metadata": {},
   "source": [
    "## print()"
   ]
  },
  {
   "cell_type": "code",
   "execution_count": 2,
   "metadata": {},
   "outputs": [
    {
     "name": "stdout",
     "output_type": "stream",
     "text": [
      "hello world\n",
      "hello world\thello,world\n"
     ]
    }
   ],
   "source": [
    "# 기본 : print( str, sep=\" \", end=\"\\n\")\n",
    "#              인자 간 구분   출력문 마지막 문자\n",
    "print(\"hello\", \"world\")\n",
    "print(\"hello\", \"world\", end=\"\\t\")\n",
    "print(\"hello\", \"world\", sep=\",\")"
   ]
  },
  {
   "cell_type": "markdown",
   "metadata": {},
   "source": [
    "문자열과 변수 연결\n",
    "\n",
    "콤마(,), %, .format(), f문자열"
   ]
  },
  {
   "cell_type": "code",
   "execution_count": 4,
   "metadata": {},
   "outputs": [
    {
     "name": "stdout",
     "output_type": "stream",
     "text": [
      "10 과 20\n"
     ]
    }
   ],
   "source": [
    "# 문자열과 변수 연결1\n",
    "# 콤마(,) 사용 : 자동으로 인자 간 공백 추가\n",
    "a = 10\n",
    "b = 20\n",
    "print(a, \"과\", b)"
   ]
  },
  {
   "cell_type": "code",
   "execution_count": 5,
   "metadata": {},
   "outputs": [
    {
     "name": "stdout",
     "output_type": "stream",
     "text": [
      "10과 20\n"
     ]
    }
   ],
   "source": [
    "# 문자열과 변수 연결2\n",
    "# 서식 지정자 사용 : %d, %x, %o, %f, %c, %s\n",
    "print(\"%d과 %d\" %(a, b))"
   ]
  },
  {
   "cell_type": "code",
   "execution_count": 8,
   "metadata": {},
   "outputs": [
    {
     "name": "stdout",
     "output_type": "stream",
     "text": [
      "10과 20\n",
      "20과 10\n"
     ]
    }
   ],
   "source": [
    "# 문자열과 변수 연결3\n",
    "# format() : 순서로 서식 지정\n",
    "print(\"{0}과 {1}\".format(a, b))\n",
    "print(\"{1}과 {0}\".format(a, b))"
   ]
  },
  {
   "cell_type": "code",
   "execution_count": 9,
   "metadata": {},
   "outputs": [
    {
     "name": "stdout",
     "output_type": "stream",
     "text": [
      "10과 20\n"
     ]
    }
   ],
   "source": [
    "#문자열과 변수 연결4\n",
    "# f문자열 : 문자열 앞에 f를 붙이면 중괄호와 변수명만으로 서식 지정 가능\n",
    "print(f\"{a}과 {b}\")"
   ]
  },
  {
   "cell_type": "markdown",
   "metadata": {},
   "source": [
    "출력문 정렬"
   ]
  },
  {
   "cell_type": "code",
   "execution_count": null,
   "metadata": {},
   "outputs": [],
   "source": []
  }
 ],
 "metadata": {
  "kernelspec": {
   "display_name": "Python 3",
   "language": "python",
   "name": "python3"
  },
  "language_info": {
   "codemirror_mode": {
    "name": "ipython",
    "version": 3
   },
   "file_extension": ".py",
   "mimetype": "text/x-python",
   "name": "python",
   "nbconvert_exporter": "python",
   "pygments_lexer": "ipython3",
   "version": "3.13.0"
  }
 },
 "nbformat": 4,
 "nbformat_minor": 2
}
