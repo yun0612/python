{
 "cells": [
  {
   "cell_type": "markdown",
   "metadata": {},
   "source": [
    "## 클래스\n",
    "\n",
    "- `__init__()` : 객체 생성 시 자동 호출되는 함수\n",
    "- `__str__()` : `str()`의 인자로 객체가 전달되면 자동 호출되는 함수\n",
    "\n",
    "- 상속 : `class 클래스명(부모클래스명)`\n",
    "- 메서드 오버라이딩 : 부모 클래스에 있는 메서드를 다시 작성해서 덮어쓰기"
   ]
  },
  {
   "cell_type": "code",
   "execution_count": null,
   "metadata": {},
   "outputs": [
    {
     "name": "stdout",
     "output_type": "stream",
     "text": [
      "cal1\n",
      "10\n",
      "20\n",
      "10\n",
      "cal2\n",
      "20\n",
      "40\n",
      "80\n",
      "40.0\n"
     ]
    }
   ],
   "source": [
    "# 클래스 생성\n",
    "class BasicCalculator:\n",
    "    # 생성자\n",
    "    def __init__(self):\n",
    "        # property\n",
    "        self.result = 0\n",
    "    \n",
    "    # method\n",
    "    def add(self, num):\n",
    "        self.result += num\n",
    "        return self.result\n",
    "    \n",
    "    def sub(self, num):\n",
    "        self.result -= num\n",
    "        return self.result\n",
    "    \n",
    "    def mul(self, num):\n",
    "        self.result *= num\n",
    "        return self.result\n",
    "    \n",
    "    def div(self, num):\n",
    "        self.result /= num\n",
    "        return self.result\n",
    "    \n",
    "# 인스턴스 생성\n",
    "cal1 = BasicCalculator()\n",
    "cal2 = BasicCalculator()\n",
    "\n",
    "print(\"cal1\")\n",
    "print(cal1.add(10))\n",
    "print(cal1.add(10))\n",
    "print(cal1.sub(10))\n",
    "\n",
    "print(\"cal2\")\n",
    "print(cal2.add(20))\n",
    "print(cal2.add(20))\n",
    "print(cal2.mul(2))\n",
    "print(cal2.div(2))"
   ]
  },
  {
   "cell_type": "code",
   "execution_count": 9,
   "metadata": {},
   "outputs": [
    {
     "name": "stdout",
     "output_type": "stream",
     "text": [
      "-8\n",
      "0\n",
      "1\n",
      "1024\n"
     ]
    }
   ],
   "source": [
    "# 상속 & 메서드 오버라이딩\n",
    "class FourCal:\n",
    "    def __init__(self, a, b):\n",
    "        self.first = a\n",
    "        self.second = b\n",
    "\n",
    "    def sum(self):\n",
    "        return self.first + self.second\n",
    "    \n",
    "    def sub(self):\n",
    "        return self.first - self.second\n",
    "    \n",
    "    def mul(self):\n",
    "        return self.first * self.second\n",
    "    \n",
    "    def div(self):\n",
    "        return self.first / self.second\n",
    "\n",
    "# FourCal 상속\n",
    "class UpgradeCal(FourCal):\n",
    "    # div 메서드 오버라이딩\n",
    "    def div(self):\n",
    "        if self.second == 0:\n",
    "            return 0\n",
    "        else :\n",
    "            return self.first / self.second\n",
    "\n",
    "    def pow(self):\n",
    "        if self.second == 0:\n",
    "            return 1\n",
    "        else:\n",
    "            return self.first ** self.second\n",
    "    \n",
    "test1 = FourCal(2, 10)\n",
    "print(test1.sub())\n",
    "\n",
    "test2 = UpgradeCal(3, 0)\n",
    "print(test2.div())\n",
    "print(test2.pow())\n",
    "\n",
    "test3 = UpgradeCal(2, 10)\n",
    "print(test3.pow())"
   ]
  },
  {
   "cell_type": "code",
   "execution_count": null,
   "metadata": {},
   "outputs": [],
   "source": []
  }
 ],
 "metadata": {
  "kernelspec": {
   "display_name": "Python 3",
   "language": "python",
   "name": "python3"
  },
  "language_info": {
   "codemirror_mode": {
    "name": "ipython",
    "version": 3
   },
   "file_extension": ".py",
   "mimetype": "text/x-python",
   "name": "python",
   "nbconvert_exporter": "python",
   "pygments_lexer": "ipython3",
   "version": "3.13.0"
  }
 },
 "nbformat": 4,
 "nbformat_minor": 2
}
