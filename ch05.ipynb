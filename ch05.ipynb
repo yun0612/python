{
 "cells": [
  {
   "cell_type": "markdown",
   "metadata": {},
   "source": [
    "## Collection\n",
    "\n",
    "List : 대괄호, 수정 가능\n",
    "\n",
    "Tuple : 소괄호, 수정 불가\n",
    "\n",
    "Set : 중괄호 or `set()` 함수, 중복 제거, 집합 연산 지원\n",
    "\n",
    "Dictionary : 중괄호 & 키-값 쌍"
   ]
  },
  {
   "cell_type": "code",
   "execution_count": 2,
   "metadata": {},
   "outputs": [
    {
     "name": "stdout",
     "output_type": "stream",
     "text": [
      "(10, 20, 30, 40) type: <class 'tuple'>\n",
      "a: 10   b: 20   c: 30\n"
     ]
    }
   ],
   "source": [
    "# 괄호 없는 튜플\n",
    "tuple_test = 10, 20, 30, 40\n",
    "print(tuple_test, \"type:\", type(tuple_test))\n",
    "\n",
    "# 괄호 없는 튜플 활용\n",
    "a, b, c = 10, 20, 30\n",
    "print(f\"a: {a}   b: {b}   c: {c}\")"
   ]
  },
  {
   "cell_type": "markdown",
   "metadata": {},
   "source": [
    "### 람다 lambda\n",
    "\n",
    "함수를 매개변수로 전달\n",
    "\n",
    "ex. `map(함수, 리스트)`, `filter(함수, 리스트)`"
   ]
  },
  {
   "cell_type": "code",
   "execution_count": 4,
   "metadata": {},
   "outputs": [
    {
     "name": "stdout",
     "output_type": "stream",
     "text": [
      "hello\n",
      "hello\n",
      "hello\n",
      "hello\n",
      "hello\n"
     ]
    }
   ],
   "source": [
    "def call_n_times(func):\n",
    "    for i in range(5):\n",
    "        func()\n",
    "\n",
    "def print_hello():\n",
    "    print(\"hello\")\n",
    "\n",
    "call_n_times(print_hello)"
   ]
  },
  {
   "cell_type": "code",
   "execution_count": null,
   "metadata": {},
   "outputs": [
    {
     "name": "stdout",
     "output_type": "stream",
     "text": [
      "map() 실행 결과\n",
      "input: [1, 2, 3, 4, 5]\n",
      "output: [1, 4, 9, 16, 25]\n",
      "filter() 실행 결과\n",
      "input: [1, 2, 3, 4, 5]\n",
      "output: [1, 2]\n"
     ]
    }
   ],
   "source": [
    "# 람다 활용\n",
    "def power(item):\n",
    "    return item*item\n",
    "\n",
    "def under_3(item):\n",
    "    return item < 3\n",
    "\n",
    "input_a = [1, 2, 3, 4, 5]\n",
    "\n",
    "output_a = map(power, input_a)\n",
    "print(\"map() 실행 결과\")\n",
    "print(\"input:\", input_a)\n",
    "print(\"output:\", list(output_a))\n",
    "\n",
    "output_b = filter(under_3, input_a)\n",
    "print(\"filter() 실행 결과\")\n",
    "print(\"input:\", input_a)\n",
    "print(\"output:\", list(output_b))"
   ]
  }
 ],
 "metadata": {
  "kernelspec": {
   "display_name": "Python 3",
   "language": "python",
   "name": "python3"
  },
  "language_info": {
   "codemirror_mode": {
    "name": "ipython",
    "version": 3
   },
   "file_extension": ".py",
   "mimetype": "text/x-python",
   "name": "python",
   "nbconvert_exporter": "python",
   "pygments_lexer": "ipython3",
   "version": "3.13.0"
  }
 },
 "nbformat": 4,
 "nbformat_minor": 2
}
