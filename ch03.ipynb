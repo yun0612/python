{
 "cells": [
  {
   "cell_type": "markdown",
   "metadata": {},
   "source": [
    "## 반복문 while"
   ]
  },
  {
   "cell_type": "markdown",
   "metadata": {},
   "source": [
    "for vs while\n",
    "- for문 : 반복 횟수 지정 (순차적으로 접근할 때 주로 사용)\n",
    "- while문 : 반복 조건 지정 (조건이 참일 때 반복)\n",
    "\n",
    "while문 내부에 조건문과 관련된 변화 필요 for 무한 루프 방지\n",
    "\n",
    "ex. `i < 3`이 조건일 때 `i += 1`을 while문 안에 넣는 것"
   ]
  },
  {
   "cell_type": "markdown",
   "metadata": {},
   "source": [
    "무한 루프일 떄 종료 방법\n",
    "- 주피터 노트북 : 중단 아이콘 클릭\n",
    "- 터미널, 프롬프트 : `Ctrl` + `C` 단축키 사용"
   ]
  },
  {
   "cell_type": "code",
   "execution_count": 1,
   "metadata": {},
   "outputs": [
    {
     "name": "stdout",
     "output_type": "stream",
     "text": [
      "hello\n",
      "hello\n",
      "hello\n"
     ]
    }
   ],
   "source": [
    "# while 조건 :\n",
    "#   조건이 참일 때\n",
    "\n",
    "# for i in range(0, 3) :\n",
    "#     print(\"hello\")\n",
    "i = 0\n",
    "while i < 3 :\n",
    "    print(\"hello\")\n",
    "    i += 1"
   ]
  },
  {
   "cell_type": "code",
   "execution_count": 2,
   "metadata": {},
   "outputs": [
    {
     "name": "stdout",
     "output_type": "stream",
     "text": [
      "1부터 10까지의 총합 : 55\n"
     ]
    }
   ],
   "source": [
    "# 1부터 10까지 합계 구하기\n",
    "\n",
    "# i = 1\n",
    "# total = 0\n",
    "i, total = 1, 0\n",
    "\n",
    "while i < 11 :\n",
    "    total += i\n",
    "    i += 1\n",
    "\n",
    "print(\"1부터 10까지의 총합 :\", total)"
   ]
  },
  {
   "cell_type": "markdown",
   "metadata": {},
   "source": [
    "### break\n",
    "\n",
    "반복문 중지 명령어 (루프 탈출)"
   ]
  },
  {
   "cell_type": "code",
   "execution_count": 3,
   "metadata": {},
   "outputs": [
    {
     "name": "stdout",
     "output_type": "stream",
     "text": [
      "0\n"
     ]
    }
   ],
   "source": [
    "i = 0\n",
    "\n",
    "while i<3 :\n",
    "    print(i)\n",
    "    break"
   ]
  },
  {
   "cell_type": "code",
   "execution_count": 64,
   "metadata": {},
   "outputs": [
    {
     "name": "stdout",
     "output_type": "stream",
     "text": [
      "12 + 13 = 25\n"
     ]
    }
   ],
   "source": [
    "# '$'를 입력하면 루프가 중단되는 while문\n",
    "total = 0\n",
    "a, b = 0, 0\n",
    "\n",
    "while True :\n",
    "    a = input(\"첫번째 수를 입력하세요\")\n",
    "    if a == \"$\" :\n",
    "        break\n",
    "\n",
    "    b = input(\"두번째 수를 입력하세요\")\n",
    "    if b == \"$\" :\n",
    "        break\n",
    "    \n",
    "    a = int(a)\n",
    "    b = int(b)\n",
    "    total = a + b\n",
    "\n",
    "    print(f\"{a} + {b} = {total}\")"
   ]
  },
  {
   "cell_type": "markdown",
   "metadata": {},
   "source": [
    "### continue\n",
    "\n",
    "현재 진행중인 루프를 중단하고 다음 루프로 넘어가는 명령어"
   ]
  },
  {
   "cell_type": "code",
   "execution_count": 68,
   "metadata": {},
   "outputs": [
    {
     "name": "stdout",
     "output_type": "stream",
     "text": [
      "1부터 100까지 3의 배수가 아닌 수들의 합: 3367\n"
     ]
    }
   ],
   "source": [
    "total, i = 0, 0\n",
    "\n",
    "for i in range(1, 101) :\n",
    "    if i % 3 == 0 :\n",
    "        continue\n",
    "    total += i\n",
    "\n",
    "print(f\"1부터 100까지 3의 배수가 아닌 수들의 합: {total}\")"
   ]
  },
  {
   "cell_type": "code",
   "execution_count": 18,
   "metadata": {},
   "outputs": [],
   "source": [
    "# 별 모양 문자로 마름모 그리기\n",
    "# 유니코드\n",
    "# 전 세계 대부분의 문자와 심볼을 고유한 코드 포인트로 매핑한 국제표준   \n",
    "# ex. \\u2605"
   ]
  },
  {
   "cell_type": "markdown",
   "metadata": {},
   "source": [
    "## 딕셔너리\n",
    "\n",
    "중괄호 안에 키와 값으로 이루어진 자료구조 like JSON\n",
    "\n",
    "- 키 : 값에 접근하기 위해 사용\n",
    "- 값 : 딕셔너리 내부의 값"
   ]
  },
  {
   "cell_type": "code",
   "execution_count": 7,
   "metadata": {},
   "outputs": [
    {
     "name": "stdout",
     "output_type": "stream",
     "text": [
      "어벤져스 앤드게임\n",
      "아이언맨\n",
      "{'name': '아이언맨', 'type': '히어로 영화', 'series': 3}\n"
     ]
    }
   ],
   "source": [
    "# 딕셔너리 선언\n",
    "# 변수 = { 키: 값, ... }\n",
    "dict_d = {\n",
    "    \"name\" : \"어벤져스 앤드게임\",\n",
    "    \"type\" : \"히어로 영화\"\n",
    "}\n",
    "\n",
    "# 딕셔너리 값 호출\n",
    "# 변수명[키]\n",
    "print(dict_d[\"name\"])\n",
    "\n",
    "# 딕셔너리 값 수정\n",
    "# 변수[키] = 새로운 값\n",
    "dict_d[\"name\"] = \"아이언맨\"\n",
    "print(dict_d[\"name\"])\n",
    "\n",
    "# 딕셔너리 됴소 추가\n",
    "# 변수[새로운 키] = 새로운 값\n",
    "dict_d[\"series\"] = 3\n",
    "print(dict_d)"
   ]
  },
  {
   "cell_type": "code",
   "execution_count": 8,
   "metadata": {},
   "outputs": [
    {
     "name": "stdout",
     "output_type": "stream",
     "text": [
      "name 70 건조 망고\n",
      "type 당줄임\n",
      "ingredient ['망고', '설탕', '메타중아황산나트륨', '치자황색소']\n",
      "origin 필리핀\n",
      "\n",
      "설탕\n"
     ]
    }
   ],
   "source": [
    "dictionary = {\n",
    "    \"name\" : \"70 건조 망고\",\n",
    "    \"type\" : \"당줄임\",\n",
    "    \"ingredient\" : [\"망고\", \"설탕\", \"메타중아황산나트륨\", \"치자황색소\"],\n",
    "    \"origin\" : \"필리핀\"\n",
    "}\n",
    "\n",
    "print(\"name\", dictionary[\"name\"])\n",
    "print(\"type\", dictionary[\"type\"])\n",
    "print(\"ingredient\", dictionary[\"ingredient\"])\n",
    "print(\"origin\", dictionary[\"origin\"])\n",
    "print()\n",
    "\n",
    "# 딕셔너리 내부 리스트 값에 접근은 인덱스 사용 가능\n",
    "print(dictionary[\"ingredient\"][1])"
   ]
  },
  {
   "cell_type": "markdown",
   "metadata": {},
   "source": [
    "### 딕셔너리 메서드\n",
    "\n",
    "- `.items()` : 딕셔너리의 키-값을 포함하는 튜플 목록 반환\n",
    "- `.get(key)` : key와 일치하는 키의 값을 반환 (없으면 None 반환)\n",
    "- `.pop(key)` : 특정 key 삭제\n",
    "- `.len()` : 키-값 쌍의 개수 반환\n",
    "- `.keys()` : 딕셔너리의 모든 키 반환\n",
    "- `.values()` : 딕셔너리의 모든 값 반환"
   ]
  },
  {
   "cell_type": "code",
   "execution_count": 9,
   "metadata": {},
   "outputs": [
    {
     "name": "stdout",
     "output_type": "stream",
     "text": [
      "name : 70 건조 망고\n",
      "type : 당줄임\n",
      "ingredient : ['망고', '설탕', '메타중아황산나트륨', '치자황색소']\n",
      "origin : 필리핀\n"
     ]
    }
   ],
   "source": [
    "# for문 활용 딕셔너리 출력 반복문\n",
    "for key, value in dictionary.items() :\n",
    "    print(f\"{key} : {value}\")"
   ]
  },
  {
   "cell_type": "code",
   "execution_count": 17,
   "metadata": {},
   "outputs": [
    {
     "name": "stdout",
     "output_type": "stream",
     "text": [
      "70 건조 망고\n",
      "값이 존재합니다\n"
     ]
    }
   ],
   "source": [
    "# 딕셔너리 키 검색\n",
    "tag = input(\"찾고자 하는 키\")\n",
    "\n",
    "# 방법1 : in 활용\n",
    "if tag in dictionary :\n",
    "    print(dictionary[tag])\n",
    "else :\n",
    "    print(\"존재하지 않는 키입니다\")\n",
    "\n",
    "# 방법2 : get() 활용\n",
    "value = dictionary.get(tag)\n",
    "if value  == None :\n",
    "    print(\"존재하지 않는 키입니다\")\n",
    "\n",
    "# 값이 있는지 확인\n",
    "# if 찾으려는 값 in 딕셔너리.values()\n",
    "if \"70 건조 망고\" in dictionary.values() :\n",
    "    print(\"값이 존재합니다\")\n",
    "else :\n",
    "    print(\"값이 존재하지 않습니다\")"
   ]
  },
  {
   "cell_type": "code",
   "execution_count": 11,
   "metadata": {},
   "outputs": [
    {
     "name": "stdout",
     "output_type": "stream",
     "text": [
      "name: Alice\n",
      "age:  25\n"
     ]
    }
   ],
   "source": [
    "# Q. person 딕셔너리 생성 후, name과 age 값을 출력\n",
    "person = {\n",
    "    \"name\" : \"Alice\",\n",
    "    \"age\" : 25,\n",
    "    \"city\" : \"Seoul\"\n",
    "}\n",
    "\n",
    "print(\"name:\", person[\"name\"])\n",
    "print(\"age: \", person[\"age\"])"
   ]
  },
  {
   "cell_type": "code",
   "execution_count": 12,
   "metadata": {},
   "outputs": [
    {
     "name": "stdout",
     "output_type": "stream",
     "text": [
      "30\n"
     ]
    }
   ],
   "source": [
    "# Q. 딕셔너리이ㅔ서 age를 30으로 업데이트\n",
    "person[\"age\"] = 30\n",
    "print(person[\"age\"])"
   ]
  },
  {
   "cell_type": "code",
   "execution_count": 13,
   "metadata": {},
   "outputs": [
    {
     "name": "stdout",
     "output_type": "stream",
     "text": [
      "{'name': 'Alice', 'age': 30, 'city': 'Seoul', 'job': 'Developer'}\n"
     ]
    }
   ],
   "source": [
    "# Q. 딕셔너리에 \"job\"키를 추가하고 \"Developer\"로 설정\n",
    "person[\"job\"] = \"Developer\"\n",
    "print(person)"
   ]
  },
  {
   "cell_type": "code",
   "execution_count": 14,
   "metadata": {},
   "outputs": [
    {
     "name": "stdout",
     "output_type": "stream",
     "text": [
      "{'name': 'Alice', 'age': 30, 'job': 'Developer'}\n"
     ]
    }
   ],
   "source": [
    "# Q. 딕셔너리에서 \"city\"키 삭제\n",
    "person.pop(\"city\")\n",
    "print(person)"
   ]
  },
  {
   "cell_type": "code",
   "execution_count": 15,
   "metadata": {},
   "outputs": [
    {
     "name": "stdout",
     "output_type": "stream",
     "text": [
      "존재하는 키 입니다\n"
     ]
    }
   ],
   "source": [
    "# Q. 딕셔너리에서 \"name\"키가 존재하는지 확인\n",
    "val = person.get(\"name\")\n",
    "print(\"존재하지 않는 키 입니다\") if val == None else print(f\"존재하는 키 입니다\")"
   ]
  },
  {
   "cell_type": "markdown",
   "metadata": {},
   "source": [
    "## 문자열 관련 기본 함수\n",
    "\n",
    "- __+__ 문자열 연결\n",
    "- __*__ 분자열 반복\n",
    "- __[]__ 문자열 인덱싱\n",
    "- __[:]__ 문자열 슬라이싱\n",
    "- `len(str)` 문자열 길이 반환\n",
    "- `.upper()` 문자열 전체 대문자로 변환\n",
    "- `.lower()` 문자열 전체 소문자로 변환\n",
    "- `.strip()` 문자열 양 옆 공백 제거 (문자열 사이의 공백은 제거X)\n",
    "    - `.lstrip()` 문자열 왼쪽 공백 제거\n",
    "    - `.rstrip()` 문자열 오른쪽 공백 제거\n",
    "- 문자열 확인\n",
    "    - `.isalnum()`, `.isalpha()` : 알파벳or숫자/알파벳으로 구성되어 있는지\n",
    "    - `.islower()`, `.isupper()` : 소문자/대문자로 구성되어 있는지\n",
    "    - `.isdecimal()` : 정수로 구성되어 있는지\n",
    "    - `.isspace()` : 공백으로 고성되어 있는지"
   ]
  },
  {
   "cell_type": "code",
   "execution_count": 20,
   "metadata": {},
   "outputs": [
    {
     "name": "stdout",
     "output_type": "stream",
     "text": [
      "텍스트1텍스트2\n",
      "텍스트1 텍스트2\n"
     ]
    }
   ],
   "source": [
    "# 문자열 연결\n",
    "# 공백이 추가되는 콤마와 달리, 공백 없이 연결\n",
    "text1 = \"텍스트1\"\n",
    "text2 = \"텍스트2\"\n",
    "\n",
    "print(text1 + text2)\n",
    "print(text1, text2)"
   ]
  },
  {
   "cell_type": "code",
   "execution_count": 26,
   "metadata": {},
   "outputs": [
    {
     "name": "stdout",
     "output_type": "stream",
     "text": [
      "안녕하세요안녕하세요안녕하세요\n",
      "================================================================================\n"
     ]
    }
   ],
   "source": [
    "# 문자열 반복\n",
    "print(\"안녕하세요\" * 3)\n",
    "\n",
    "print(\"=\" * 80)"
   ]
  },
  {
   "cell_type": "code",
   "execution_count": null,
   "metadata": {},
   "outputs": [
    {
     "name": "stdout",
     "output_type": "stream",
     "text": [
      "안\n",
      "요\n",
      "요\n",
      "안\n"
     ]
    }
   ],
   "source": [
    "# 문자열 인덱싱\n",
    "# 리스트형 자료 인덱싱에 많이 사용\n",
    "str = \"안녕하세요\"\n",
    "# 왼쪽부터 9으로 카운트\n",
    "print(str[0])\n",
    "print(str[4])\n",
    "# 오른쪽부터 -1로 카운트\n",
    "print(str[-1])\n",
    "print(str[-5])"
   ]
  },
  {
   "cell_type": "markdown",
   "metadata": {},
   "source": [
    "[딕셔너리] 중괄호 {}\n",
    "\n",
    "[리스트] 대괄호 []\n",
    "\n",
    "[튜플] 소괄호 ()"
   ]
  },
  {
   "cell_type": "code",
   "execution_count": null,
   "metadata": {},
   "outputs": [
    {
     "name": "stdout",
     "output_type": "stream",
     "text": [
      "el\n",
      "hello\n",
      "world\n",
      "['Seoul', 'Daegu']\n",
      "['Incheon', 'Suwon']\n",
      "['Incheon']\n"
     ]
    }
   ],
   "source": [
    "# 문자열 슬라이싱\n",
    "hello = \"hello world\"\n",
    "print(hello[1:3])\n",
    "print(hello[:5])\n",
    "print(hello[6:])\n",
    "\n",
    "# 리스트 슬라이싱 (문자열과 동일)\n",
    "city = [\"Seoul\", \"Daegu\", \"Busan\", \"Incheon\", \"Suwon\"]\n",
    "print(city[:2])\n",
    "print(city[-2:])\n",
    "print(city[-2:-1])"
   ]
  },
  {
   "cell_type": "code",
   "execution_count": 43,
   "metadata": {},
   "outputs": [
    {
     "name": "stdout",
     "output_type": "stream",
     "text": [
      "안녕하세요\n",
      "5\n",
      "[1, 2, 3, 4]\n",
      "4\n"
     ]
    }
   ],
   "source": [
    "# 문자열 길이\n",
    "str = \"안녕하세요\"\n",
    "print(str)\n",
    "print(len(str))\n",
    "\n",
    "# 리스트 길이\n",
    "lst = [1, 2, 3, 4]\n",
    "print(lst)\n",
    "print(len(lst))"
   ]
  },
  {
   "cell_type": "code",
   "execution_count": null,
   "metadata": {},
   "outputs": [
    {
     "name": "stdout",
     "output_type": "stream",
     "text": [
      "ABCDEFG\n",
      "abcdefg\n"
     ]
    }
   ],
   "source": [
    "# 대/소문자 변환\n",
    "str = \"abcDEFG\"\n",
    "\n",
    "print(str.upper())\n",
    "print(str.lower())"
   ]
  },
  {
   "cell_type": "code",
   "execution_count": 51,
   "metadata": {},
   "outputs": [
    {
     "name": "stdout",
     "output_type": "stream",
     "text": [
      "h e l l o\n",
      "    h e l l o\n",
      "h e l l o    \n"
     ]
    }
   ],
   "source": [
    "# 문자열 사이드 공백 제거\n",
    "str = \"    h e l l o    \"\n",
    "\n",
    "print(str.strip())\n",
    "print(str.rstrip())\n",
    "print(str.lstrip())"
   ]
  },
  {
   "cell_type": "code",
   "execution_count": 53,
   "metadata": {},
   "outputs": [
    {
     "name": "stdout",
     "output_type": "stream",
     "text": [
      "유효한 이메일 주소입니다.\n"
     ]
    }
   ],
   "source": [
    "# 이메일 유효성 검증 by 정규 표현식\n",
    "import re\n",
    "email = \"example@domain.com\"\n",
    "pattern = r\"^[a-zA-Z0-9._%+-]+@[a-zA-Z0-9.-]+\\.[a-zA-Z]{2,}$\"\n",
    "if re.match(pattern, email):\n",
    "\tprint(\"유효한 이메일 주소입니다.\")\n",
    "else:\n",
    "\tprint(\"유효하지 않은 이메일 주소입니다.\")"
   ]
  },
  {
   "cell_type": "markdown",
   "metadata": {},
   "source": [
    "### 문자열 검색 함수\n",
    "\n",
    "(문자열 내에 존재하지 않으면 -1 반환)\n",
    "\n",
    "`.find(str)` : str을 문자열 내에서 찾고, 첫번째 위치 반환\n",
    "\n",
    "`.rfind(str)` : str을 문자열 내 오른쪽에서 부터 찾고, 첫번째 위치 반환"
   ]
  },
  {
   "cell_type": "code",
   "execution_count": 54,
   "metadata": {},
   "outputs": [
    {
     "name": "stdout",
     "output_type": "stream",
     "text": [
      "0\n",
      "-1\n",
      "3\n"
     ]
    }
   ],
   "source": [
    "str = \"안녕 안녕하세요\"\n",
    "\n",
    "print(str.find(\"안녕\"))\n",
    "print(str.find(\"잘가\"))\n",
    "\n",
    "print(str.rfind(\"안녕\"))"
   ]
  },
  {
   "cell_type": "markdown",
   "metadata": {},
   "source": [
    "### 문자열을 나누는 함수\n",
    "\n",
    "`.split(str)` : str을 기준으로 문자열을 나누고 리스트로 반환"
   ]
  },
  {
   "cell_type": "code",
   "execution_count": null,
   "metadata": {},
   "outputs": [
    {
     "name": "stdout",
     "output_type": "stream",
     "text": [
      "['1', '2', '3', '4']\n"
     ]
    }
   ],
   "source": [
    "text = \"1,2,3,4\"\n",
    "\n",
    "print(text.split(\",\"))"
   ]
  },
  {
   "cell_type": "markdown",
   "metadata": {},
   "source": [
    "## 리스트 관련 기본 함수\n",
    "\n",
    "`max(list)` : 리스트 요소 중 최대값 반환\n",
    "\n",
    "`min(list)` : 리스트 요소 중 최소값 반환\n",
    "\n",
    "`sum(list)` : 리스트 요소들의 총합 반환\n",
    "\n",
    "`reversed(list)` : 리스트 순서 반전 후 iterator 반환 (메로리 사용량 측면에서 유리)\n",
    "\n",
    "`enumerate(list)` : 인덱스와 값을 포함하여 반환 (주로 for문과 함께 사용)"
   ]
  },
  {
   "cell_type": "code",
   "execution_count": 4,
   "metadata": {},
   "outputs": [
    {
     "name": "stdout",
     "output_type": "stream",
     "text": [
      "max: 2345\n",
      "min: 10\n",
      "sum: 2688\n",
      "<list_reverseiterator object at 0x000001CF412055A0>\n",
      "2345\n",
      "311\n",
      "22\n",
      "10\n"
     ]
    }
   ],
   "source": [
    "numbers = [10, 22, 311, 2345]\n",
    "\n",
    "print(\"max:\", max(numbers))\n",
    "print(\"min:\", min(numbers))\n",
    "print(\"sum:\", sum(numbers))\n",
    "\n",
    "# reversed(list) : next(iterator)를 활용해 다음 요소로 이동\n",
    "# next()로 이동할 때마다 한 공간에 각 요소를 교체해서 불러옴\n",
    "reversed_numbers = reversed(numbers)\n",
    "print(reversed_numbers)\n",
    "print(next(reversed_numbers))\n",
    "print(next(reversed_numbers))\n",
    "for number in reversed_numbers :\n",
    "    print(number)"
   ]
  },
  {
   "cell_type": "code",
   "execution_count": 8,
   "metadata": {},
   "outputs": [
    {
     "name": "stdout",
     "output_type": "stream",
     "text": [
      "<enumerate object at 0x000001CF41278BD0>\n",
      "[(0, 'A'), (1, 'B'), (2, 'C')]\n",
      "(0, 'A')\n",
      "0 번째 값 A\n",
      "(1, 'B')\n",
      "1 번째 값 B\n",
      "(2, 'C')\n",
      "2 번째 값 C\n"
     ]
    }
   ],
   "source": [
    "lst = [\"A\", \"B\", \"C\"]\n",
    "\n",
    "# 인덱스가 포함된 리스트를 출력하려면 enumerate()를 list()로 타입 변환\n",
    "print(enumerate(lst))\n",
    "print(list(enumerate(lst)))\n",
    "\n",
    "# for문 활용 (for문으로만 작성하면 반복문 종료 후에도 변수 i가 남음)\n",
    "# i = 0\n",
    "# for letter in lst:\n",
    "#     print(i, letter)\n",
    "#     i += 1\n",
    "for arr in enumerate(lst) :\n",
    "    print(arr)\n",
    "    print(arr[0], \"번째 값\", arr[1])"
   ]
  }
 ],
 "metadata": {
  "kernelspec": {
   "display_name": "base",
   "language": "python",
   "name": "python3"
  },
  "language_info": {
   "codemirror_mode": {
    "name": "ipython",
    "version": 3
   },
   "file_extension": ".py",
   "mimetype": "text/x-python",
   "name": "python",
   "nbconvert_exporter": "python",
   "pygments_lexer": "ipython3",
   "version": "3.11.3"
  }
 },
 "nbformat": 4,
 "nbformat_minor": 2
}
