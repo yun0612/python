{
 "cells": [
  {
   "cell_type": "markdown",
   "metadata": {},
   "source": [
    "## 반복문 while"
   ]
  },
  {
   "cell_type": "markdown",
   "metadata": {},
   "source": [
    "for vs while\n",
    "- for문 : 반복 횟수 지정 (순차적으로 접근할 때 주로 사용)\n",
    "- while문 : 반복 조건 지정 (조건이 참일 때 반복)\n",
    "\n",
    "while문 내부에 조건문과 관련된 변화 필요 for 무한 루프 방지\n",
    "\n",
    "ex. 'i<3'이 조건일 때 ㅑ+=1을 while문 안에 넣는 것"
   ]
  },
  {
   "cell_type": "markdown",
   "metadata": {},
   "source": [
    "무한 루프일 떄 종료 방법\n",
    "- 주피터 노트북 : 중단 아이콘 클릭\n",
    "- 터미널, 프롬프트 : Ctrl + C 단축키 사용"
   ]
  },
  {
   "cell_type": "code",
   "execution_count": 1,
   "metadata": {},
   "outputs": [
    {
     "name": "stdout",
     "output_type": "stream",
     "text": [
      "hello\n",
      "hello\n",
      "hello\n"
     ]
    }
   ],
   "source": [
    "# while 조건 :\n",
    "#   조건이 참일 때\n",
    "\n",
    "# for i in range(0, 3) :\n",
    "#     print(\"hello\")\n",
    "i = 0\n",
    "while i < 3 :\n",
    "    print(\"hello\")\n",
    "    i += 1"
   ]
  },
  {
   "cell_type": "code",
   "execution_count": 2,
   "metadata": {},
   "outputs": [
    {
     "name": "stdout",
     "output_type": "stream",
     "text": [
      "1부터 10까지의 총합 : 55\n"
     ]
    }
   ],
   "source": [
    "# 1부터 10까지 합계 구하기\n",
    "\n",
    "# i = 1\n",
    "# total = 0\n",
    "i, total = 1, 0\n",
    "\n",
    "while i < 11 :\n",
    "    total += i\n",
    "    i += 1\n",
    "\n",
    "print(\"1부터 10까지의 총합 :\", total)"
   ]
  },
  {
   "cell_type": "markdown",
   "metadata": {},
   "source": [
    "### break\n",
    "\n",
    "반복문 중지 명령어 (루프 탈출)"
   ]
  },
  {
   "cell_type": "code",
   "execution_count": 3,
   "metadata": {},
   "outputs": [
    {
     "name": "stdout",
     "output_type": "stream",
     "text": [
      "0\n"
     ]
    }
   ],
   "source": [
    "i = 0\n",
    "\n",
    "while i<3 :\n",
    "    print(i)\n",
    "    break"
   ]
  },
  {
   "cell_type": "code",
   "execution_count": 4,
   "metadata": {},
   "outputs": [
    {
     "name": "stdout",
     "output_type": "stream",
     "text": [
      "10 + 12 = 22\n"
     ]
    }
   ],
   "source": [
    "# '$'를 입력하면 루프가 중단되는 while문\n",
    "total = 0\n",
    "a, b = 0, 0\n",
    "\n",
    "while True :\n",
    "    a = input(\"첫번째 수를 입력하세요\")\n",
    "    if a == \"$\" :\n",
    "        break\n",
    "\n",
    "    b = input(\"두번째 수를 입력하세요\")\n",
    "    if b == \"$\" :\n",
    "        break\n",
    "    \n",
    "    a = int(a)\n",
    "    b = int(b)\n",
    "    sum = a + b\n",
    "\n",
    "    print(f\"{a} + {b} = {sum}\")"
   ]
  },
  {
   "cell_type": "markdown",
   "metadata": {},
   "source": [
    "### continue\n",
    "\n",
    "현재 진행중인 루프를 중단하고 다음 루프로 넘어가는 명령어"
   ]
  },
  {
   "cell_type": "code",
   "execution_count": 5,
   "metadata": {},
   "outputs": [
    {
     "name": "stdout",
     "output_type": "stream",
     "text": [
      "1부터 100까지 3의 배수가 아닌 수들의 합: 3367\n"
     ]
    }
   ],
   "source": [
    "sum, i = 0, 0\n",
    "\n",
    "for i in range(1, 101) :\n",
    "    if i % 3 == 0 :\n",
    "        continue\n",
    "    sum += i\n",
    "\n",
    "print(f\"1부터 100까지 3의 배수가 아닌 수들의 합: {sum}\")"
   ]
  },
  {
   "cell_type": "code",
   "execution_count": 18,
   "metadata": {},
   "outputs": [],
   "source": [
    "# 별 모양 문자로 마름모 그리기\n",
    "# 유니코드\n",
    "# 전 세계 대부분의 문자와 심볼을 고유한 코드 포인트로 매핑한 국제표준   \n",
    "# ex. \\u2605"
   ]
  },
  {
   "cell_type": "markdown",
   "metadata": {},
   "source": [
    "## 딕셔너리\n",
    "\n",
    "중괄호 안에 키와 값으로 이루어진 자료구조 like JSON\n",
    "\n",
    "- 키 : 값에 접근하기 위해 사용\n",
    "- 값 : 딕셔너리 내부의 값"
   ]
  },
  {
   "cell_type": "code",
   "execution_count": 7,
   "metadata": {},
   "outputs": [
    {
     "name": "stdout",
     "output_type": "stream",
     "text": [
      "어벤져스 앤드게임\n",
      "아이언맨\n",
      "{'name': '아이언맨', 'type': '히어로 영화', 'series': 3}\n"
     ]
    }
   ],
   "source": [
    "# 딕셔너리 선언\n",
    "# 변수 = { 키: 값, ... }\n",
    "dict_d = {\n",
    "    \"name\" : \"어벤져스 앤드게임\",\n",
    "    \"type\" : \"히어로 영화\"\n",
    "}\n",
    "\n",
    "# 딕셔너리 값 호출\n",
    "# 변수명[키]\n",
    "print(dict_d[\"name\"])\n",
    "\n",
    "# 딕셔너리 값 수정\n",
    "# 변수[키] = 새로운 값\n",
    "dict_d[\"name\"] = \"아이언맨\"\n",
    "print(dict_d[\"name\"])\n",
    "\n",
    "# 딕셔너리 됴소 추가\n",
    "# 변수[새로운 키] = 새로운 값\n",
    "dict_d[\"series\"] = 3\n",
    "print(dict_d)"
   ]
  },
  {
   "cell_type": "code",
   "execution_count": 8,
   "metadata": {},
   "outputs": [
    {
     "name": "stdout",
     "output_type": "stream",
     "text": [
      "name 70 건조 망고\n",
      "type 당줄임\n",
      "ingredient ['망고', '설탕', '메타중아황산나트륨', '치자황색소']\n",
      "origin 필리핀\n",
      "\n",
      "설탕\n"
     ]
    }
   ],
   "source": [
    "dictionary = {\n",
    "    \"name\" : \"70 건조 망고\",\n",
    "    \"type\" : \"당줄임\",\n",
    "    \"ingredient\" : [\"망고\", \"설탕\", \"메타중아황산나트륨\", \"치자황색소\"],\n",
    "    \"origin\" : \"필리핀\"\n",
    "}\n",
    "\n",
    "print(\"name\", dictionary[\"name\"])\n",
    "print(\"type\", dictionary[\"type\"])\n",
    "print(\"ingredient\", dictionary[\"ingredient\"])\n",
    "print(\"origin\", dictionary[\"origin\"])\n",
    "print()\n",
    "\n",
    "# 딕셔너리 내부 리스트 값에 접근은 인덱스 사용 가능\n",
    "print(dictionary[\"ingredient\"][1])"
   ]
  },
  {
   "cell_type": "markdown",
   "metadata": {},
   "source": [
    "### 딕셔너리 메서드\n",
    "\n",
    "- .items( ) : 딕셔너리의 키-값을 포함하는 튜플 목록 반환\n",
    "- .get( key ) : key와 일치하는 키의 값을 반환 (없으면 None 반환)\n",
    "- .pop( key ) : 특정 key 삭제\n",
    "- .len( ) : 키-값 쌍의 개수 반환\n",
    "- .keys( ) : 딕셔너리의 모든 키 반환\n",
    "- .values( ) : 딕셔너리의 모든 값 반환"
   ]
  },
  {
   "cell_type": "code",
   "execution_count": 9,
   "metadata": {},
   "outputs": [
    {
     "name": "stdout",
     "output_type": "stream",
     "text": [
      "name : 70 건조 망고\n",
      "type : 당줄임\n",
      "ingredient : ['망고', '설탕', '메타중아황산나트륨', '치자황색소']\n",
      "origin : 필리핀\n"
     ]
    }
   ],
   "source": [
    "# for문 활용 딕셔너리 출력 반복문\n",
    "for key, value in dictionary.items() :\n",
    "    print(f\"{key} : {value}\")"
   ]
  },
  {
   "cell_type": "code",
   "execution_count": 17,
   "metadata": {},
   "outputs": [
    {
     "name": "stdout",
     "output_type": "stream",
     "text": [
      "70 건조 망고\n",
      "값이 존재합니다\n"
     ]
    }
   ],
   "source": [
    "# 딕셔너리 키 검색\n",
    "tag = input(\"찾고자 하는 키\")\n",
    "\n",
    "# 방법1 : in 활용\n",
    "if tag in dictionary :\n",
    "    print(dictionary[tag])\n",
    "else :\n",
    "    print(\"존재하지 않는 키입니다\")\n",
    "\n",
    "# 방법2 : get() 활용\n",
    "value = dictionary.get(tag)\n",
    "if value  == None :\n",
    "    print(\"존재하지 않는 키입니다\")\n",
    "\n",
    "# 값이 있는지 확인\n",
    "# if 찾으려는 값 in 딕셔너리.values()\n",
    "if \"70 건조 망고\" in dictionary.values() :\n",
    "    print(\"값이 존재합니다\")\n",
    "else :\n",
    "    print(\"값이 존재하지 않습니다\")"
   ]
  },
  {
   "cell_type": "code",
   "execution_count": 11,
   "metadata": {},
   "outputs": [
    {
     "name": "stdout",
     "output_type": "stream",
     "text": [
      "name: Alice\n",
      "age:  25\n"
     ]
    }
   ],
   "source": [
    "# Q. person 딕셔너리 생성 후, name과 age 값을 출력\n",
    "person = {\n",
    "    \"name\" : \"Alice\",\n",
    "    \"age\" : 25,\n",
    "    \"city\" : \"Seoul\"\n",
    "}\n",
    "\n",
    "print(\"name:\", person[\"name\"])\n",
    "print(\"age: \", person[\"age\"])"
   ]
  },
  {
   "cell_type": "code",
   "execution_count": 12,
   "metadata": {},
   "outputs": [
    {
     "name": "stdout",
     "output_type": "stream",
     "text": [
      "30\n"
     ]
    }
   ],
   "source": [
    "# Q. 딕셔너리이ㅔ서 age를 30으로 업데이트\n",
    "person[\"age\"] = 30\n",
    "print(person[\"age\"])"
   ]
  },
  {
   "cell_type": "code",
   "execution_count": 13,
   "metadata": {},
   "outputs": [
    {
     "name": "stdout",
     "output_type": "stream",
     "text": [
      "{'name': 'Alice', 'age': 30, 'city': 'Seoul', 'job': 'Developer'}\n"
     ]
    }
   ],
   "source": [
    "# Q. 딕셔너리에 \"job\"키를 추가하고 \"Developer\"로 설정\n",
    "person[\"job\"] = \"Developer\"\n",
    "print(person)"
   ]
  },
  {
   "cell_type": "code",
   "execution_count": 14,
   "metadata": {},
   "outputs": [
    {
     "name": "stdout",
     "output_type": "stream",
     "text": [
      "{'name': 'Alice', 'age': 30, 'job': 'Developer'}\n"
     ]
    }
   ],
   "source": [
    "# Q. 딕셔너리에서 \"city\"키 삭제\n",
    "person.pop(\"city\")\n",
    "print(person)"
   ]
  },
  {
   "cell_type": "code",
   "execution_count": 15,
   "metadata": {},
   "outputs": [
    {
     "name": "stdout",
     "output_type": "stream",
     "text": [
      "존재하는 키 입니다\n"
     ]
    }
   ],
   "source": [
    "# Q. 딕셔너리에서 \"name\"키가 존재하는지 확인\n",
    "val = person.get(\"name\")\n",
    "print(\"존재하지 않는 키 입니다\") if val == None else print(f\"존재하는 키 입니다\")"
   ]
  },
  {
   "cell_type": "markdown",
   "metadata": {},
   "source": [
    "## 문자열/리스트/딕셔너리 관련 기본 함수\n",
    "\n",
    "- '+' 문자열 연결\n",
    "- '*' 분자열 반복\n",
    "- [] 문자열 인덱싱\n",
    "- [:] 문자열 슬라이싱\n",
    "- len() 문자열 길이 반환\n"
   ]
  },
  {
   "cell_type": "code",
   "execution_count": 20,
   "metadata": {},
   "outputs": [
    {
     "name": "stdout",
     "output_type": "stream",
     "text": [
      "텍스트1텍스트2\n",
      "텍스트1 텍스트2\n"
     ]
    }
   ],
   "source": [
    "# 문자열 연결\n",
    "# 공백이 추가되는 콤마와 달리, 공백 없이 연결\n",
    "text1 = \"텍스트1\"\n",
    "text2 = \"텍스트2\"\n",
    "\n",
    "print(text1 + text2)\n",
    "print(text1, text2)"
   ]
  },
  {
   "cell_type": "code",
   "execution_count": 26,
   "metadata": {},
   "outputs": [
    {
     "name": "stdout",
     "output_type": "stream",
     "text": [
      "안녕하세요안녕하세요안녕하세요\n",
      "================================================================================\n"
     ]
    }
   ],
   "source": [
    "# 문자열 반복\n",
    "print(\"안녕하세요\" * 3)\n",
    "\n",
    "print(\"=\" * 80)"
   ]
  },
  {
   "cell_type": "code",
   "execution_count": null,
   "metadata": {},
   "outputs": [
    {
     "name": "stdout",
     "output_type": "stream",
     "text": [
      "안\n",
      "요\n",
      "요\n",
      "안\n"
     ]
    }
   ],
   "source": [
    "# 문자열 인덱싱\n",
    "# 리스트형 자료 인덱싱에 많이 사용\n",
    "str = \"안녕하세요\"\n",
    "# 왼쪽부터 9으로 카운트\n",
    "print(str[0])\n",
    "print(str[4])\n",
    "# 오른쪽부터 -1로 카운트\n",
    "print(str[-1])\n",
    "print(str[-5])"
   ]
  },
  {
   "cell_type": "code",
   "execution_count": 32,
   "metadata": {},
   "outputs": [
    {
     "name": "stdout",
     "output_type": "stream",
     "text": [
      "el\n",
      "hello\n",
      "world\n"
     ]
    }
   ],
   "source": [
    "# 문자열 슬라이싱\n",
    "hello = \"hello world\"\n",
    "print(hello[1:3])\n",
    "print(hello[:5])\n",
    "print(hello[6:])"
   ]
  }
 ],
 "metadata": {
  "kernelspec": {
   "display_name": "Python 3",
   "language": "python",
   "name": "python3"
  },
  "language_info": {
   "codemirror_mode": {
    "name": "ipython",
    "version": 3
   },
   "file_extension": ".py",
   "mimetype": "text/x-python",
   "name": "python",
   "nbconvert_exporter": "python",
   "pygments_lexer": "ipython3",
   "version": "3.13.0"
  }
 },
 "nbformat": 4,
 "nbformat_minor": 2
}
