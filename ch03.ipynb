{
 "cells": [
  {
   "cell_type": "markdown",
   "metadata": {},
   "source": [
    "## 반복문 while"
   ]
  },
  {
   "cell_type": "markdown",
   "metadata": {},
   "source": [
    "for vs while\n",
    "- for문 : 반복 횟수 지정 (순차적으로 접근할 때 주로 사용)\n",
    "- while문 : 반복 조건 지정 (조건이 참일 때 반복)\n",
    "\n",
    "while문 내부에 조건문과 관련된 변화 필요 for 무한 루프 방지\n",
    "\n",
    "ex. 'i<3'이 조건일 때 ㅑ+=1을 while문 안에 넣는 것"
   ]
  },
  {
   "cell_type": "markdown",
   "metadata": {},
   "source": [
    "무한 루프일 떄 종료 방법\n",
    "- 주피터 노트북 : 중단 아이콘 클릭\n",
    "- 터미널, 프롬프트 : Ctrl + C 단축키 사용"
   ]
  },
  {
   "cell_type": "code",
   "execution_count": 1,
   "metadata": {},
   "outputs": [
    {
     "name": "stdout",
     "output_type": "stream",
     "text": [
      "hello\n",
      "hello\n",
      "hello\n"
     ]
    }
   ],
   "source": [
    "# while 조건 :\n",
    "#   조건이 참일 때\n",
    "\n",
    "# for i in range(0, 3) :\n",
    "#     print(\"hello\")\n",
    "i = 0\n",
    "while i < 3 :\n",
    "    print(\"hello\")\n",
    "    i += 1"
   ]
  },
  {
   "cell_type": "code",
   "execution_count": 2,
   "metadata": {},
   "outputs": [
    {
     "name": "stdout",
     "output_type": "stream",
     "text": [
      "1부터 10까지의 총합 : 55\n"
     ]
    }
   ],
   "source": [
    "# 1부터 10까지 합계 구하기\n",
    "\n",
    "# i = 1\n",
    "# total = 0\n",
    "i, total = 1, 0\n",
    "\n",
    "while i < 11 :\n",
    "    total += i\n",
    "    i += 1\n",
    "\n",
    "print(\"1부터 10까지의 총합 :\", total)"
   ]
  },
  {
   "cell_type": "markdown",
   "metadata": {},
   "source": [
    "### break\n",
    "\n",
    "반복문 중지 명령어 (루프 탈출)"
   ]
  },
  {
   "cell_type": "code",
   "execution_count": 3,
   "metadata": {},
   "outputs": [
    {
     "name": "stdout",
     "output_type": "stream",
     "text": [
      "0\n"
     ]
    }
   ],
   "source": [
    "i = 0\n",
    "\n",
    "while i<3 :\n",
    "    print(i)\n",
    "    break"
   ]
  },
  {
   "cell_type": "code",
   "execution_count": null,
   "metadata": {},
   "outputs": [],
   "source": [
    "# '$'를 입력하면 루프가 중단되는 while문\n",
    "total = 0\n",
    "a, b = 0, 0\n",
    "\n",
    "while True :\n",
    "    a = input(\"첫번째 수를 입력하세요\")\n",
    "    if a == \"$\" :\n",
    "        break\n",
    "\n",
    "    b = input(\"두번째 수를 입력하세요\")\n",
    "    if b == \"$\" :\n",
    "        break\n",
    "    \n",
    "    a = int(a)\n",
    "    b = int(b)\n",
    "    sum = a + b\n",
    "\n",
    "    print(f\"{a} + {b} = {sum}\")"
   ]
  },
  {
   "cell_type": "markdown",
   "metadata": {},
   "source": [
    "### continue\n",
    "\n",
    "현재 진행중인 루프를 중단하고 다음 루프로 넘어가는 명령어"
   ]
  },
  {
   "cell_type": "code",
   "execution_count": null,
   "metadata": {},
   "outputs": [
    {
     "name": "stdout",
     "output_type": "stream",
     "text": [
      "1부터 100까지 3의 배수가 아닌 수들의 합: 3367\n"
     ]
    }
   ],
   "source": [
    "sum, i = 0, 0\n",
    "\n",
    "for i in range(1, 101) :\n",
    "    if i % 3 == 0 :\n",
    "        continue\n",
    "    sum += i\n",
    "\n",
    "print(f\"1부터 100까지 3의 배수가 아닌 수들의 합: {sum}\")"
   ]
  },
  {
   "cell_type": "code",
   "execution_count": null,
   "metadata": {},
   "outputs": [],
   "source": [
    "i = 0\n",
    "line = \"\"\n",
    "\n",
    "while i < 9 :\n",
    "    if i < 5 :\n",
    "        k = 0\n",
    "        while k < 4 - i :\n",
    "            line += \" \"\n",
    "            k += 1\n",
    "        j = 0\n",
    "        while j < i :\n",
    "            # 유니코드\n",
    "            # 전 세계 대부분의 문자와 심볼을 고유한 코드 포인트로 매핑한 국제표준   \n",
    "            line += \"\\u2605\"\n",
    "            j += 1\n",
    "        print(line)"
   ]
  },
  {
   "cell_type": "markdown",
   "metadata": {},
   "source": [
    "## 딕셔너리\n",
    "\n",
    "중괄호 안에 키와 값으로 이루어진 자료구조 like JSON\n",
    "\n",
    "- 키 : 값에 접근하기 위해 사용\n",
    "- 값 : 딕셔너리 내부의 값"
   ]
  },
  {
   "cell_type": "code",
   "execution_count": null,
   "metadata": {},
   "outputs": [
    {
     "name": "stdout",
     "output_type": "stream",
     "text": [
      "어벤져스 앤드게임\n",
      "아이언맨\n",
      "{'name': '아이언맨', 'type': '히어로 영화', 'series': 3}\n"
     ]
    }
   ],
   "source": [
    "# 딕셔너리 선언\n",
    "# 변수 = { 키: 값, ... }\n",
    "dict_d = {\n",
    "    \"name\" : \"어벤져스 앤드게임\",\n",
    "    \"type\" : \"히어로 영화\"\n",
    "}\n",
    "\n",
    "# 딕셔너리 값 호출\n",
    "# 변수명[키]\n",
    "print(dict_d[\"name\"])\n",
    "\n",
    "# 딕셔너리 값 수정\n",
    "# 변수[키] = 새로운 값\n",
    "dict_d[\"name\"] = \"아이언맨\"\n",
    "print(dict_d[\"name\"])\n",
    "\n",
    "# 딕셔너리 됴소 추가\n",
    "# 변수[새로운 키] = 새로운 값\n",
    "dict_d[\"series\"] = 3\n",
    "print(dict_d)"
   ]
  },
  {
   "cell_type": "code",
   "execution_count": 5,
   "metadata": {},
   "outputs": [
    {
     "name": "stdout",
     "output_type": "stream",
     "text": [
      "name 70 건조 망고\n",
      "type 당줄임\n",
      "ingredient ['망고', '설탕', '메타중아황산나트륨', '치자황색소']\n",
      "origin 필리핀\n"
     ]
    }
   ],
   "source": [
    "dictionary = {\n",
    "    \"name\" : \"70 건조 망고\",\n",
    "    \"type\" : \"당줄임\",\n",
    "    \"ingredient\" : [\"망고\", \"설탕\", \"메타중아황산나트륨\", \"치자황색소\"],\n",
    "    \"origin\" : \"필리핀\"\n",
    "}\n",
    "\n",
    "print(\"name\", dictionary[\"name\"])\n",
    "print(\"type\", dictionary[\"type\"])\n",
    "print(\"ingredient\", dictionary[\"ingredient\"])\n",
    "print(\"origin\", dictionary[\"origin\"])"
   ]
  },
  {
   "cell_type": "code",
   "execution_count": null,
   "metadata": {},
   "outputs": [],
   "source": []
  }
 ],
 "metadata": {
  "kernelspec": {
   "display_name": "Python 3",
   "language": "python",
   "name": "python3"
  },
  "language_info": {
   "codemirror_mode": {
    "name": "ipython",
    "version": 3
   },
   "file_extension": ".py",
   "mimetype": "text/x-python",
   "name": "python",
   "nbconvert_exporter": "python",
   "pygments_lexer": "ipython3",
   "version": "3.13.0"
  }
 },
 "nbformat": 4,
 "nbformat_minor": 2
}
