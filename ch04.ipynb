{
 "cells": [
  {
   "cell_type": "markdown",
   "metadata": {},
   "source": [
    "### enumerate(list)와 for문"
   ]
  },
  {
   "cell_type": "code",
   "execution_count": 6,
   "metadata": {},
   "outputs": [
    {
     "name": "stdout",
     "output_type": "stream",
     "text": [
      "## 한 요소씩 출력하기 ##\n",
      "0번째 요소는 A입니다\n",
      "1번째 요소는 B입니다\n",
      "2번째 요소는 C입니다\n"
     ]
    }
   ],
   "source": [
    "lst = [\"A\", \"B\", \"C\"]\n",
    "\n",
    "print(\"## 한 요소씩 출력하기 ##\")\n",
    "for i, value in enumerate(lst):\n",
    "    print(\"{}번째 요소는 {}입니다\".format(i, value))"
   ]
  },
  {
   "cell_type": "markdown",
   "metadata": {},
   "source": [
    "### 딕셔너리.items() 와 for문"
   ]
  },
  {
   "cell_type": "code",
   "execution_count": 10,
   "metadata": {},
   "outputs": [
    {
     "name": "stdout",
     "output_type": "stream",
     "text": [
      "딕셔너리 items() 함수\n",
      "dict_items([('키A', '값A'), ('키B', '값B'), ('키C', '값C')])\n",
      "\n",
      "딕셔너리.items()와 for문\n",
      "키A\t값A\n",
      "키B\t값B\n",
      "키C\t값C\n"
     ]
    }
   ],
   "source": [
    "ex_dict =  {\n",
    "    \"키A\" : \"값A\",\n",
    "    \"키B\" : \"값B\",\n",
    "    \"키C\" : \"값C\"\n",
    "}\n",
    "\n",
    "print(\"딕셔너리 items() 함수\")\n",
    "print(ex_dict.items())\n",
    "print()\n",
    "\n",
    "print(\"딕셔너리.items()와 for문\")\n",
    "for key, value in ex_dict.items():\n",
    "    print(\"{}\\t{}\".format(key, value))"
   ]
  },
  {
   "cell_type": "markdown",
   "metadata": {},
   "source": [
    "### 리스트 요소 추가\n",
    "\n",
    "`.append(val)`"
   ]
  },
  {
   "cell_type": "code",
   "execution_count": 11,
   "metadata": {},
   "outputs": [
    {
     "name": "stdout",
     "output_type": "stream",
     "text": [
      "[0, 4, 16, 36, 64, 100, 144, 196, 256, 324]\n"
     ]
    }
   ],
   "source": [
    "lst = []\n",
    "\n",
    "for i in range(0, 20, 2):\n",
    "    lst.append(i*i)\n",
    "\n",
    "print(lst)"
   ]
  },
  {
   "cell_type": "markdown",
   "metadata": {},
   "source": [
    "### List Comprehension\n",
    "\n",
    "`lst = [ 식 for 반복자 in 반복할 수 있는 것 ]`\n",
    "\n",
    "with 조건문\n",
    "\n",
    "`lst = [ 식 for 반복자 in 반복할 수 있는 것 if 조건 ]`"
   ]
  },
  {
   "cell_type": "code",
   "execution_count": null,
   "metadata": {},
   "outputs": [
    {
     "name": "stdout",
     "output_type": "stream",
     "text": [
      "[0, 4, 16, 36, 64, 100, 144, 196, 256, 324]\n"
     ]
    }
   ],
   "source": [
    "arr = [i*i for i in range(0, 20, 2)]\n",
    "print(arr)\n",
    "\n",
    "# with 조건\n",
    "fruits = [\"사과\", \"자두\", \"사탕\", \"딸기\", \"망고\"]\n",
    "output = [fruit for fruit in fruits if fruit != \"사탕\"]\n",
    "print(output)"
   ]
  }
 ],
 "metadata": {
  "kernelspec": {
   "display_name": "Python 3",
   "language": "python",
   "name": "python3"
  },
  "language_info": {
   "codemirror_mode": {
    "name": "ipython",
    "version": 3
   },
   "file_extension": ".py",
   "mimetype": "text/x-python",
   "name": "python",
   "nbconvert_exporter": "python",
   "pygments_lexer": "ipython3",
   "version": "3.13.0"
  }
 },
 "nbformat": 4,
 "nbformat_minor": 2
}
