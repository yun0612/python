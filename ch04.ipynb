{
 "cells": [
  {
   "cell_type": "markdown",
   "metadata": {},
   "source": [
    "### for문과 enumerate() 함수 조합 활용"
   ]
  },
  {
   "cell_type": "code",
   "execution_count": 6,
   "metadata": {},
   "outputs": [
    {
     "name": "stdout",
     "output_type": "stream",
     "text": [
      "## 한 요소씩 출력하기 ##\n",
      "0번째 요소는 A입니다\n",
      "1번째 요소는 B입니다\n",
      "2번째 요소는 C입니다\n"
     ]
    }
   ],
   "source": [
    "lst = [\"A\", \"B\", \"C\"]\n",
    "\n",
    "print(\"## 한 요소씩 출력하기 ##\")\n",
    "for i, value in enumerate(lst):\n",
    "    print(\"{}번째 요소는 {}입니다\".format(i, value))"
   ]
  },
  {
   "cell_type": "markdown",
   "metadata": {},
   "source": [
    "### 딕셔너리.items() 와 반복문"
   ]
  },
  {
   "cell_type": "code",
   "execution_count": 10,
   "metadata": {},
   "outputs": [
    {
     "name": "stdout",
     "output_type": "stream",
     "text": [
      "딕셔너리 items() 함수\n",
      "dict_items([('키A', '값A'), ('키B', '값B'), ('키C', '값C')])\n",
      "\n",
      "딕셔너리.items()와 for문\n",
      "키A\t값A\n",
      "키B\t값B\n",
      "키C\t값C\n"
     ]
    }
   ],
   "source": [
    "ex_dict =  {\n",
    "    \"키A\" : \"값A\",\n",
    "    \"키B\" : \"값B\",\n",
    "    \"키C\" : \"값C\"\n",
    "}\n",
    "\n",
    "print(\"딕셔너리 items() 함수\")\n",
    "print(ex_dict.items())\n",
    "print()\n",
    "\n",
    "print(\"딕셔너리.items()와 for문\")\n",
    "for key, value in ex_dict.items():\n",
    "    print(\"{}\\t{}\".format(key, value))"
   ]
  }
 ],
 "metadata": {
  "kernelspec": {
   "display_name": "Python 3",
   "language": "python",
   "name": "python3"
  },
  "language_info": {
   "codemirror_mode": {
    "name": "ipython",
    "version": 3
   },
   "file_extension": ".py",
   "mimetype": "text/x-python",
   "name": "python",
   "nbconvert_exporter": "python",
   "pygments_lexer": "ipython3",
   "version": "3.13.0"
  }
 },
 "nbformat": 4,
 "nbformat_minor": 2
}
