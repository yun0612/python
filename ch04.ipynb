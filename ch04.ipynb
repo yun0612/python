{
 "cells": [
  {
   "cell_type": "markdown",
   "metadata": {},
   "source": [
    "### enumerate(list)와 for문"
   ]
  },
  {
   "cell_type": "code",
   "execution_count": 6,
   "metadata": {},
   "outputs": [
    {
     "name": "stdout",
     "output_type": "stream",
     "text": [
      "## 한 요소씩 출력하기 ##\n",
      "0번째 요소는 A입니다\n",
      "1번째 요소는 B입니다\n",
      "2번째 요소는 C입니다\n"
     ]
    }
   ],
   "source": [
    "lst = [\"A\", \"B\", \"C\"]\n",
    "\n",
    "print(\"## 한 요소씩 출력하기 ##\")\n",
    "for i, value in enumerate(lst):\n",
    "    print(\"{}번째 요소는 {}입니다\".format(i, value))"
   ]
  },
  {
   "cell_type": "markdown",
   "metadata": {},
   "source": [
    "### 딕셔너리.items() 와 for문"
   ]
  },
  {
   "cell_type": "code",
   "execution_count": 10,
   "metadata": {},
   "outputs": [
    {
     "name": "stdout",
     "output_type": "stream",
     "text": [
      "딕셔너리 items() 함수\n",
      "dict_items([('키A', '값A'), ('키B', '값B'), ('키C', '값C')])\n",
      "\n",
      "딕셔너리.items()와 for문\n",
      "키A\t값A\n",
      "키B\t값B\n",
      "키C\t값C\n"
     ]
    }
   ],
   "source": [
    "ex_dict =  {\n",
    "    \"키A\" : \"값A\",\n",
    "    \"키B\" : \"값B\",\n",
    "    \"키C\" : \"값C\"\n",
    "}\n",
    "\n",
    "print(\"딕셔너리 items() 함수\")\n",
    "print(ex_dict.items())\n",
    "print()\n",
    "\n",
    "print(\"딕셔너리.items()와 for문\")\n",
    "for key, value in ex_dict.items():\n",
    "    print(\"{}\\t{}\".format(key, value))"
   ]
  },
  {
   "cell_type": "markdown",
   "metadata": {},
   "source": [
    "### 리스트 요소 추가\n",
    "\n",
    "`.append(val)`"
   ]
  },
  {
   "cell_type": "code",
   "execution_count": 11,
   "metadata": {},
   "outputs": [
    {
     "name": "stdout",
     "output_type": "stream",
     "text": [
      "[0, 4, 16, 36, 64, 100, 144, 196, 256, 324]\n"
     ]
    }
   ],
   "source": [
    "lst = []\n",
    "\n",
    "for i in range(0, 20, 2):\n",
    "    lst.append(i*i)\n",
    "\n",
    "print(lst)"
   ]
  },
  {
   "cell_type": "markdown",
   "metadata": {},
   "source": [
    "### List Comprehension\n",
    "\n",
    "`lst = [ 식 for 반복자 in 반복할 수 있는 것 ]`\n",
    "\n",
    "with 조건문\n",
    "\n",
    "`lst = [ 식 for 반복자 in 반복할 수 있는 것 if 조건 ]`"
   ]
  },
  {
   "cell_type": "code",
   "execution_count": 13,
   "metadata": {},
   "outputs": [
    {
     "name": "stdout",
     "output_type": "stream",
     "text": [
      "[0, 4, 16, 36, 64, 100, 144, 196, 256, 324]\n",
      "['사과', '자두', '딸기', '망고']\n"
     ]
    }
   ],
   "source": [
    "arr = [i*i for i in range(0, 20, 2)]\n",
    "print(arr)\n",
    "\n",
    "# with 조건\n",
    "fruits = [\"사과\", \"자두\", \"사탕\", \"딸기\", \"망고\"]\n",
    "output = [fruit for fruit in fruits if fruit != \"사탕\"]\n",
    "print(output)"
   ]
  },
  {
   "cell_type": "markdown",
   "metadata": {},
   "source": [
    "## 함수\n",
    "\n",
    "`def 함수명 (매개변수_리스트): do something...`"
   ]
  },
  {
   "cell_type": "code",
   "execution_count": 16,
   "metadata": {},
   "outputs": [
    {
     "name": "stdout",
     "output_type": "stream",
     "text": [
      "hello\n",
      "hello\n",
      "hello\n"
     ]
    }
   ],
   "source": [
    "def print_n_times (value, n):\n",
    "    for i in range(0, n):\n",
    "        print(value)\n",
    "\n",
    "print_n_times(\"hello\", 3)"
   ]
  },
  {
   "cell_type": "code",
   "execution_count": 20,
   "metadata": {},
   "outputs": [
    {
     "name": "stdout",
     "output_type": "stream",
     "text": [
      "12.566368\n"
     ]
    }
   ],
   "source": [
    "def circle(r):\n",
    "    return r*r*3.141592\n",
    "\n",
    "print(circle(2))"
   ]
  },
  {
   "cell_type": "markdown",
   "metadata": {},
   "source": [
    "### 매개변수의 기본값\n",
    "\n",
    "매개변수에 값이 들어오지 않았을 때 기본적으로 설정되는 값\n",
    "\n",
    "`def 한수명 (매개변수명=기본값):`"
   ]
  },
  {
   "cell_type": "code",
   "execution_count": 17,
   "metadata": {},
   "outputs": [
    {
     "name": "stdout",
     "output_type": "stream",
     "text": [
      "hi\n"
     ]
    }
   ],
   "source": [
    "def print_n_times (value, n=1):\n",
    "    for i in range(0, n):\n",
    "        print(value)\n",
    "\n",
    "print_n_times(\"hi\")"
   ]
  },
  {
   "cell_type": "markdown",
   "metadata": {},
   "source": [
    "### 가변 매개변수\n",
    "\n",
    "매개변수를 원하는 만큼 받을 수 잇음\n",
    "\n",
    "`(매개변수1, 매개변수2, *가변매개변수)`\n",
    "\n",
    "- 함수 당 1개만 사용 가능\n",
    "- 가변 매개변수 뒤에는 일반 매개변수가 올 수 없음"
   ]
  },
  {
   "cell_type": "code",
   "execution_count": 21,
   "metadata": {},
   "outputs": [
    {
     "name": "stdout",
     "output_type": "stream",
     "text": [
      "hi\n",
      "Hello\n",
      "\n",
      "hi\n",
      "Hello\n",
      "\n"
     ]
    }
   ],
   "source": [
    "def print_n_times (n, *values):\n",
    "    for i in range(0, n):\n",
    "        for val in values:\n",
    "            print(val)\n",
    "        print()\n",
    "\n",
    "print_n_times(2, \"hi\", \"Hello\")"
   ]
  }
 ],
 "metadata": {
  "kernelspec": {
   "display_name": "Python 3",
   "language": "python",
   "name": "python3"
  },
  "language_info": {
   "codemirror_mode": {
    "name": "ipython",
    "version": 3
   },
   "file_extension": ".py",
   "mimetype": "text/x-python",
   "name": "python",
   "nbconvert_exporter": "python",
   "pygments_lexer": "ipython3",
   "version": "3.13.0"
  }
 },
 "nbformat": 4,
 "nbformat_minor": 2
}
