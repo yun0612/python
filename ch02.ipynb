{
 "cells": [
  {
   "cell_type": "markdown",
   "metadata": {},
   "source": [
    "## 변수의 선언과 사용\n",
    "\n",
    "Python은 Java, C+++과 달리 변수 선언 없이 사용 가능\n",
    "\n",
    "[java] int a = 5;  <-- int형 데이터만 할당 가능>\n",
    "\n",
    "[python] a = 5     <-- 할당된 값에 따라 자동으로 타입 변함>"
   ]
  },
  {
   "cell_type": "code",
   "execution_count": 3,
   "metadata": {},
   "outputs": [],
   "source": [
    "varBool = True\n",
    "varInt = 1\n",
    "varFloat = 1.0\n",
    "varString = \"hello\""
   ]
  },
  {
   "cell_type": "markdown",
   "metadata": {},
   "source": [
    "type( ) : 변수의 데이터 타입 반환"
   ]
  },
  {
   "cell_type": "code",
   "execution_count": 5,
   "metadata": {},
   "outputs": [
    {
     "name": "stdout",
     "output_type": "stream",
     "text": [
      "<class 'bool'>\n",
      "<class 'int'>\n",
      "<class 'float'>\n",
      "<class 'str'>\n"
     ]
    }
   ],
   "source": [
    "print(type(varBool))\n",
    "print(type(varInt))\n",
    "print(type(varFloat))\n",
    "print(type(varString))"
   ]
  },
  {
   "cell_type": "code",
   "execution_count": 6,
   "metadata": {},
   "outputs": [],
   "source": [
    "var1 = var2 = var3 = var4 = 100\n",
    "var1 = True\n",
    "# Python의 동적 타입 변환이 사용하기에는 편리\n",
    "# 하지만 메모리 관리 차원에서는 단점"
   ]
  },
  {
   "cell_type": "markdown",
   "metadata": {},
   "source": [
    "## 진수 변환"
   ]
  },
  {
   "cell_type": "markdown",
   "metadata": {},
   "source": [
    "- bin( ) : 2진수(0b)로 변환\n",
    "- oct( ) : 8진주(0o)로 변환\n",
    "- hex( ) : 16진수(0x)로 변환"
   ]
  },
  {
   "cell_type": "code",
   "execution_count": 8,
   "metadata": {},
   "outputs": [
    {
     "name": "stdout",
     "output_type": "stream",
     "text": [
      "0b1010\n",
      "0o12\n",
      "0xa\n"
     ]
    }
   ],
   "source": [
    "n = 10\n",
    "print(bin(n))\n",
    "print(oct(n))\n",
    "print(hex(n))"
   ]
  },
  {
   "cell_type": "code",
   "execution_count": 10,
   "metadata": {},
   "outputs": [
    {
     "name": "stdout",
     "output_type": "stream",
     "text": [
      "2 8 16\n"
     ]
    }
   ],
   "source": [
    "# 2진수, 8진수, 16진수로 값 저장 가능\n",
    "bin_num = 0b10\n",
    "oct_num = 0o10\n",
    "hex_num = 0x10\n",
    "\n",
    "print(bin_num, oct_num, hex_num)"
   ]
  },
  {
   "cell_type": "markdown",
   "metadata": {},
   "source": [
    "## 숫자 연산"
   ]
  },
  {
   "cell_type": "code",
   "execution_count": null,
   "metadata": {},
   "outputs": [
    {
     "name": "stdout",
     "output_type": "stream",
     "text": [
      "20 + 3 = 23\n",
      "20 - 3 = 17\n",
      "20 * 3 = 60\n",
      "20 / 3 = 6.666667\n",
      "20 / 3의 몫은 6\n",
      "20 / 3의 나머지는 2\n",
      "20의 3제곱은 8000\n"
     ]
    }
   ],
   "source": [
    "a = 20\n",
    "b = 3\n",
    "\n",
    "# 사칙연산\n",
    "print(\"%d + %d = %d\" % (a, b, a+b))\n",
    "print(\"%d - %d = %d\" % (a, b, a-b))\n",
    "print(\"%d * %d = %d\" % (a, b, a*b))\n",
    "print(\"%d / %d = %f\" % (a, b, a/b))\n",
    "# 몫 : //\n",
    "print(\"%d / %d의 몫은 %d\" % (a, b, a//b))\n",
    "# 나머지 : %\n",
    "print(\"%d / %d의 나머지는 %d\" % (a, b, a%b))\n",
    "# 거듭제곱 : **\n",
    "print(\"%d의 %d제곱은 %d\" % (a, b, a**b))"
   ]
  },
  {
   "cell_type": "markdown",
   "metadata": {},
   "source": [
    "산술 연산자 우선순위\n",
    "\n",
    "1. 괄호가 제일 우선\n",
    "2. 곱셈/나눗셈, 덧셈/뺄셈 순서로 계산\n",
    "3. 우선 순위가 동등한 것들은 왼쪽에서 오른쪽으로 진행\n",
    "4. 애매한 것 같으면 괄호로 구분"
   ]
  },
  {
   "cell_type": "markdown",
   "metadata": {},
   "source": [
    "데이터 타입 변환 함수\n",
    "\n",
    "1. int( ) : 문자열 -> 정수형\n",
    "2. float( ) : 문자열 -> 실수형\n",
    "3. str( ) : 숫자 -> 문자열"
   ]
  },
  {
   "cell_type": "markdown",
   "metadata": {},
   "source": [
    "산술대입 연산자\n",
    "\n",
    "- a += 5   <--a = a + 5>\n",
    "- a -= 5   <--a = a - 5>\n",
    "- a *= 5   <--a = a * 5>\n",
    "- a /= 5   <--a = a / 5>\n",
    "- a //= 5  <--a = a // 5>\n",
    "- a %= 5   <--a = a % 5>\n",
    "- a **= 5  <--a = a ** 5>"
   ]
  },
  {
   "cell_type": "code",
   "execution_count": 29,
   "metadata": {},
   "outputs": [
    {
     "name": "stdout",
     "output_type": "stream",
     "text": [
      "500원 ==> 15개\n",
      "100원 ==> 2개\n",
      "50원 ==> 1개\n",
      "50원 ==> 2개\n",
      "바꾸지 못한 잔금 ==> 7원\n"
     ]
    }
   ],
   "source": [
    "# 동전 교환 프로그램\n",
    "# 교환할 금액을 입력 받고, 각 동전 개수와 남은 잔돈 출력\n",
    "\n",
    "cash = int(input(\"교환할 금액을 입력하세요\"))\n",
    "\n",
    "print(\"500원 ==> %d개\" % (cash // 500))\n",
    "cash %= 500\n",
    "print(\"100원 ==> %d개\" % (cash//100))\n",
    "cash %= 100\n",
    "print(\"50원 ==> %d개\" % (cash//50))\n",
    "cash %= 50\n",
    "print(\"50원 ==> %d개\" % (cash//10))\n",
    "cash %= 10\n",
    "print(\"바꾸지 못한 잔금 ==> %d원\" %(cash))"
   ]
  },
  {
   "cell_type": "markdown",
   "metadata": {},
   "source": [
    "관계 연산자\n",
    "\n",
    "==, !=, <, >, <=, >="
   ]
  },
  {
   "cell_type": "code",
   "execution_count": 27,
   "metadata": {},
   "outputs": [
    {
     "name": "stdout",
     "output_type": "stream",
     "text": [
      "False True True False True False\n"
     ]
    }
   ],
   "source": [
    "a, b = 10, 20\n",
    "print(a==b, a!=b, a<b, a>b, a<=b, a>=b)\n",
    "# print(a=b) : error"
   ]
  },
  {
   "cell_type": "markdown",
   "metadata": {},
   "source": [
    "논리 연산자\n",
    "\n",
    "- and : 둘 다 참이면 True\n",
    "- or : 둘 중 하나가 참이면 True\n",
    "- not : 부정 (True면 False, False면 True)"
   ]
  },
  {
   "cell_type": "code",
   "execution_count": 28,
   "metadata": {},
   "outputs": [
    {
     "name": "stdout",
     "output_type": "stream",
     "text": [
      "False\n",
      "True\n",
      "True\n"
     ]
    }
   ],
   "source": [
    "a = 99\n",
    "print(a>100 and a<200)\n",
    "print(a>100 or a<200)\n",
    "print(not a==100)"
   ]
  },
  {
   "cell_type": "markdown",
   "metadata": {},
   "source": [
    "## 조건문 if\n",
    "\n",
    "중괄호가 없는 대신 Python은 들여쓰기로 블록 구분"
   ]
  },
  {
   "cell_type": "code",
   "execution_count": 32,
   "metadata": {},
   "outputs": [
    {
     "name": "stdout",
     "output_type": "stream",
     "text": [
      "100보다 작습니다\n",
      "a가 99였을 때였습니다\n",
      "a가 101이었을 때였습니다\n"
     ]
    }
   ],
   "source": [
    "# if 조건문 :\n",
    "#   조건문이 참일 때 statement\n",
    "a = 99\n",
    "if a<100 :\n",
    "    print(\"100보다 작습니다\")\n",
    "print(\"a가 99였을 때였습니다\")\n",
    "\n",
    "a = 101\n",
    "if a<100 :\n",
    "    print(\"100보다 작습니다\")\n",
    "print(\"a가 101이었을 때였습니다\")"
   ]
  },
  {
   "cell_type": "code",
   "execution_count": 33,
   "metadata": {},
   "outputs": [
    {
     "name": "stdout",
     "output_type": "stream",
     "text": [
      "a가 100보다 큽니다\n"
     ]
    }
   ],
   "source": [
    "# if 조건문 :\n",
    "#   조건문이 참일 때\n",
    "# else :\n",
    "#   조건문이 거짓일 때\n",
    "a = 200\n",
    "\n",
    "if a<100 :\n",
    "    print(\"a가 100보다 작습니다\")\n",
    "else :\n",
    "    print(\"a가 100보다 큽니다\")"
   ]
  },
  {
   "cell_type": "code",
   "execution_count": null,
   "metadata": {},
   "outputs": [
    {
     "name": "stdout",
     "output_type": "stream",
     "text": [
      "13은(는) 홀수입니다.\n"
     ]
    }
   ],
   "source": [
    "# 점수를 입력받으면 홀수인지 짝수인지 판별하는 프로그램\n",
    "num = int(input(\"숫자를 입력하세요\"))\n",
    "\n",
    "if num%2 == 0 :\n",
    "    print(\"%d은(는) 짝수입니다.\" % (num))\n",
    "else :\n",
    "    print(\"%d은(는) 홀수입니다.\" % (num))"
   ]
  },
  {
   "cell_type": "code",
   "execution_count": null,
   "metadata": {},
   "outputs": [
    {
     "name": "stdout",
     "output_type": "stream",
     "text": [
      "50보다 크고 100보다 작습니다\n"
     ]
    }
   ],
   "source": [
    "# 중첩 if문\n",
    "a = 75\n",
    "\n",
    "if a>50 :\n",
    "    if a<100 :\n",
    "        print(\"50보다 크고 100보다 작습니다\")\n",
    "    else :\n",
    "        print(\"100보다 큽니다\")\n",
    "else :\n",
    "    print(\"50보다 작습니다\")"
   ]
  },
  {
   "cell_type": "code",
   "execution_count": 41,
   "metadata": {},
   "outputs": [
    {
     "name": "stdout",
     "output_type": "stream",
     "text": [
      "B 학점입니다.\n"
     ]
    }
   ],
   "source": [
    "# if 조건문1 :\n",
    "#   조건문1이 참일 때\n",
    "# elif 조건문2 :\n",
    "#   조건문1이 거짓이고, 조건문2가 참일 때\n",
    "# else :\n",
    "#   조건문1, 조건문2가 모두 거짓일 때\n",
    "score = int(input(\"점수를 입력하세요\"))\n",
    "\n",
    "if score>=90 :\n",
    "    print(\"A\", end=\" \")\n",
    "elif score>=80 :\n",
    "    print(\"B\", end=\" \")\n",
    "elif score>=70 :\n",
    "    print(\"C\", end=\" \")\n",
    "elif score>=60 :\n",
    "    print(\"D\", end=\" \")\n",
    "else :\n",
    "    print(\"F\", end=\" \")\n",
    "\n",
    "print(\"학점입니다.\")"
   ]
  },
  {
   "cell_type": "code",
   "execution_count": 45,
   "metadata": {},
   "outputs": [
    {
     "name": "stdout",
     "output_type": "stream",
     "text": [
      "C0 학점입니다.\n"
     ]
    }
   ],
   "source": [
    "# 학점 세분화\n",
    "score = int(input(\"점수를 입력하세요\"))\n",
    "\n",
    "if score>=90 :\n",
    "    if score>=95 :\n",
    "        print(\"A+\", end=\" \")\n",
    "    else :\n",
    "        print(\"A0\", end=\" \")\n",
    "elif score>=80 :\n",
    "    if score>=85 :\n",
    "        print(\"B+\", end=\" \")\n",
    "    else :\n",
    "        print(\"B0\", end=\" \")\n",
    "elif score>=70 :\n",
    "    if score>=75 :\n",
    "        print(\"C+\", end=\" \")\n",
    "    else :\n",
    "        print(\"C0\", end=\" \")\n",
    "elif score>=60 :\n",
    "    if score>=65 :\n",
    "        print(\"D+\", end=\" \")\n",
    "    else :\n",
    "        print(\"D0\", end=\" \")\n",
    "else :\n",
    "    print(\"F\", end=\" \")\n",
    "\n",
    "print(\"학점입니다.\")"
   ]
  },
  {
   "cell_type": "code",
   "execution_count": 55,
   "metadata": {},
   "outputs": [
    {
     "name": "stdout",
     "output_type": "stream",
     "text": [
      "성인입니다\n"
     ]
    }
   ],
   "source": [
    "#나이 판별기\n",
    "# 나이를 입력받고, 아래의 기준에 따라 분류\n",
    "# 13세 미만은 '어린이'\n",
    "# 13세 이상 20세 미만은 '청소년'\n",
    "# 20세 이상 60세 미만은 '성인'\n",
    "# 그 외 나이는 '노년층'\n",
    "age = int(input(\"나이를 입력하세요\"))\n",
    "\n",
    "if age < 13 :\n",
    "    print(\"어린이\", end=\"\")\n",
    "elif age < 20 :\n",
    "    print(\"청소년\", end=\"\")\n",
    "elif age < 60 :\n",
    "    print(\"성인\", end=\"\")\n",
    "else :\n",
    "    print(\"노년층\", end=\"\")\n",
    "\n",
    "print(\"입니다\")"
   ]
  },
  {
   "cell_type": "markdown",
   "metadata": {},
   "source": [
    "축약 if문 (3항 연산자)\n",
    "\n",
    "참일때값 if 조건문 else 거짓일때값"
   ]
  },
  {
   "cell_type": "code",
   "execution_count": null,
   "metadata": {},
   "outputs": [
    {
     "name": "stdout",
     "output_type": "stream",
     "text": [
      "B 학점\n"
     ]
    }
   ],
   "source": [
    "score = 75\n",
    "grade = \"\"\n",
    "\n",
    "# if score > 90 :\n",
    "#     grade = \"A\"\n",
    "# else :\n",
    "#     grade = \"B\"\n",
    "grade = \"A\" if score>90 else \"B\"\n",
    "\n",
    "print(grade, \"학점\")"
   ]
  },
  {
   "cell_type": "markdown",
   "metadata": {},
   "source": [
    "if문 응용\n",
    "\n",
    "- in : 리스트에 특정 값이 있는지 확인\n",
    "- not in : 리스트에 특정 값이 없는지 확인"
   ]
  },
  {
   "cell_type": "code",
   "execution_count": 58,
   "metadata": {},
   "outputs": [
    {
     "name": "stdout",
     "output_type": "stream",
     "text": [
      "['사과', '배', '딸기', '포도']\n",
      "['사과', '배', '딸기', '포도', '귤']\n",
      "딸기가 있습니다\n"
     ]
    }
   ],
   "source": [
    "# in : List 내에 특정 값이 있는지 확인\n",
    "\n",
    "# 리스트\n",
    "fruits = [\"사과\", \"배\", \"딸기\", \"포도\"]\n",
    "print(fruits)\n",
    "\n",
    "# 리스트 값 추가\n",
    "fruits.append(\"귤\")\n",
    "print(fruits)\n",
    "\n",
    "if \"딸기\" in fruits :\n",
    "    print(\"딸기가 있습니다\")"
   ]
  },
  {
   "cell_type": "markdown",
   "metadata": {},
   "source": [
    "## random\n",
    "\n",
    "난수 생성 라이브러리\n",
    "\n",
    "- random.random() : 0.0 이상 1.0 미만의 실수 생성\n",
    "- random.uniform(a, b) : a 이상 b 이하의 실수 생성\n",
    "\n",
    "- random.randrange(a) : 0 이상 a 미만의 난수 생성\n",
    "- random.randrange(a, b) : a 이상 b 미만의 난수 생성\n",
    "- random.randrange(a, b, steps) : steps 간격으로 a 이상 b 미만의 난수 생성 \n",
    "- random.randint(a, b) : a 이상 b 이하의 난수 생성"
   ]
  },
  {
   "cell_type": "code",
   "execution_count": 60,
   "metadata": {},
   "outputs": [
    {
     "name": "stdout",
     "output_type": "stream",
     "text": [
      "생성된 리스트: [8, 8, 2, 6, 8, 0, 0, 4, 4, 2]\n",
      "1은(는) 리스트에 없습니다\n",
      "3은(는) 리스트에 없습니다\n",
      "5은(는) 리스트에 없습니다\n",
      "7은(는) 리스트에 없습니다\n",
      "9은(는) 리스트에 없습니다\n"
     ]
    }
   ],
   "source": [
    "import random\n",
    "\n",
    "numbers = []\n",
    "for num in range(0, 10) :\n",
    "    numbers.append(random.randrange(0, 10))\n",
    "\n",
    "print(\"생성된 리스트:\", numbers)\n",
    "\n",
    "# 생성된 난수 리스트에서 없는 값 출력\n",
    "for num in range(0, 10) :\n",
    "    if num not in numbers :\n",
    "        print(\"%d은(는) 리스트에 없습니다\" % (num))"
   ]
  },
  {
   "cell_type": "code",
   "execution_count": 64,
   "metadata": {},
   "outputs": [
    {
     "name": "stdout",
     "output_type": "stream",
     "text": [
      "1부터 10까지의 합은 55입니다\n"
     ]
    }
   ],
   "source": [
    "# 첫번째 숫자에서 두번째 숫자까지 정수 합 구하기\n",
    "# ex) 첫번쨰 숫자가 1이고 두번째 숫자가 100이면 1부터 100까지의 합\n",
    "firstN = int(input(\"첫번째 숫자를 입력하세요\"))\n",
    "secondN = int(input(\"두번째 숫자를 입력하세요\"))\n",
    "total = 0\n",
    "\n",
    "for num in range(firstN, secondN+1) :\n",
    "    total += num\n",
    "\n",
    "print(f\"{firstN}부터 {secondN}까지의 합은 {total}입니다\")"
   ]
  },
  {
   "cell_type": "markdown",
   "metadata": {},
   "source": [
    "[C/C++/Java] 블록 스코프 형성 -> if문, for문 중괄호 밖에서 내부 변수 접근 불가\n",
    "\n",
    "[Python] 블록 스코프 형성 X -> if문, for문 내부 변수를 외부에서 접근 가능"
   ]
  },
  {
   "cell_type": "markdown",
   "metadata": {},
   "source": [
    "## 반복문 for\n",
    "\n",
    "- range(start, stop[, steps]) : steps는 기본 1로 설정되어 있음"
   ]
  },
  {
   "cell_type": "code",
   "execution_count": null,
   "metadata": {},
   "outputs": [
    {
     "name": "stdout",
     "output_type": "stream",
     "text": [
      "55\n"
     ]
    }
   ],
   "source": [
    "# for 변수명 in 범위/리스트 :\n",
    "#   반복할 명령\n",
    "total = 0\n",
    "\n",
    "# 1부터 10까지의 합\n",
    "for i in range(1, 11):\n",
    "    total += i\n",
    "\n",
    "print(total)"
   ]
  },
  {
   "cell_type": "code",
   "execution_count": 67,
   "metadata": {},
   "outputs": [
    {
     "name": "stdout",
     "output_type": "stream",
     "text": [
      "187500\n"
     ]
    }
   ],
   "source": [
    "# 500과 1000사이에 있는 홀수의 합계\n",
    "total = 0\n",
    "\n",
    "# for i in range(500, 1001) :\n",
    "#     if i % 2 == 1 :\n",
    "#         total += i\n",
    "for i in range(501, 1001, 2) :\n",
    "    total += i\n",
    "\n",
    "print(total)"
   ]
  },
  {
   "cell_type": "code",
   "execution_count": 73,
   "metadata": {},
   "outputs": [
    {
     "name": "stdout",
     "output_type": "stream",
     "text": [
      "735\n"
     ]
    }
   ],
   "source": [
    "# 0과 100 사이의 7의 배수 합계\n",
    "total = 0\n",
    "\n",
    "for i in range(0, 101, 7) :\n",
    "    total += i\n",
    "\n",
    "print(total)"
   ]
  },
  {
   "cell_type": "code",
   "execution_count": 95,
   "metadata": {},
   "outputs": [
    {
     "name": "stdout",
     "output_type": "stream",
     "text": [
      "## 2단 ##\n",
      "2 x 1 = 2\n",
      "2 x 2 = 4\n",
      "2 x 3 = 6\n",
      "2 x 4 = 8\n",
      "2 x 5 = 10\n",
      "2 x 6 = 12\n",
      "2 x 7 = 14\n",
      "2 x 8 = 16\n",
      "2 x 9 = 18\n",
      "\n",
      "## 3단 ##\n",
      "3 x 1 = 3\n",
      "3 x 2 = 6\n",
      "3 x 3 = 9\n",
      "3 x 4 = 12\n",
      "3 x 5 = 15\n",
      "3 x 6 = 18\n",
      "3 x 7 = 21\n",
      "3 x 8 = 24\n",
      "3 x 9 = 27\n",
      "\n",
      "## 4단 ##\n",
      "4 x 1 = 4\n",
      "4 x 2 = 8\n",
      "4 x 3 = 12\n",
      "4 x 4 = 16\n",
      "4 x 5 = 20\n",
      "4 x 6 = 24\n",
      "4 x 7 = 28\n",
      "4 x 8 = 32\n",
      "4 x 9 = 36\n",
      "\n",
      "## 5단 ##\n",
      "5 x 1 = 5\n",
      "5 x 2 = 10\n",
      "5 x 3 = 15\n",
      "5 x 4 = 20\n",
      "5 x 5 = 25\n",
      "5 x 6 = 30\n",
      "5 x 7 = 35\n",
      "5 x 8 = 40\n",
      "5 x 9 = 45\n",
      "\n",
      "## 6단 ##\n",
      "6 x 1 = 6\n",
      "6 x 2 = 12\n",
      "6 x 3 = 18\n",
      "6 x 4 = 24\n",
      "6 x 5 = 30\n",
      "6 x 6 = 36\n",
      "6 x 7 = 42\n",
      "6 x 8 = 48\n",
      "6 x 9 = 54\n",
      "\n",
      "## 7단 ##\n",
      "7 x 1 = 7\n",
      "7 x 2 = 14\n",
      "7 x 3 = 21\n",
      "7 x 4 = 28\n",
      "7 x 5 = 35\n",
      "7 x 6 = 42\n",
      "7 x 7 = 49\n",
      "7 x 8 = 56\n",
      "7 x 9 = 63\n",
      "\n",
      "## 8단 ##\n",
      "8 x 1 = 8\n",
      "8 x 2 = 16\n",
      "8 x 3 = 24\n",
      "8 x 4 = 32\n",
      "8 x 5 = 40\n",
      "8 x 6 = 48\n",
      "8 x 7 = 56\n",
      "8 x 8 = 64\n",
      "8 x 9 = 72\n",
      "\n",
      "## 9단 ##\n",
      "9 x 1 = 9\n",
      "9 x 2 = 18\n",
      "9 x 3 = 27\n",
      "9 x 4 = 36\n",
      "9 x 5 = 45\n",
      "9 x 6 = 54\n",
      "9 x 7 = 63\n",
      "9 x 8 = 72\n",
      "9 x 9 = 81\n",
      "\n"
     ]
    }
   ],
   "source": [
    "# 중첩 for문\n",
    "# 구구단 2단 ~ 9단 출력\n",
    "for i in range(2, 10) :\n",
    "    print(f\"## {i}단 ##\")\n",
    "    for j in range(1, 10) :\n",
    "        print(i, \"x\", j, \"=\", i*j)\n",
    "    print()"
   ]
  },
  {
   "cell_type": "code",
   "execution_count": 92,
   "metadata": {},
   "outputs": [
    {
     "name": "stdout",
     "output_type": "stream",
     "text": [
      "    *\n",
      "   ***\n",
      "  *****\n",
      " *******\n",
      "*********\n",
      " *******\n",
      "  *****\n",
      "   ***\n",
      "    *\n"
     ]
    }
   ],
   "source": [
    "# '*'로 다이아 모양 만들기\n",
    "for i in range(1, 5) :\n",
    "    line = \"\"\n",
    "    for j in range(0, 5-i) :\n",
    "        line += \" \"\n",
    "    for k in range(0, 2*i-1) :\n",
    "        line += \"*\"\n",
    "    print(line)\n",
    "for i in range(5, 0, -1) :\n",
    "    line = \"\"\n",
    "    for j in range(0, 5-i) :\n",
    "        line += \" \"\n",
    "    for k in range(0, 2*i-1) :\n",
    "        line += \"*\"\n",
    "    print(line)"
   ]
  }
 ],
 "metadata": {
  "kernelspec": {
   "display_name": "Python 3",
   "language": "python",
   "name": "python3"
  },
  "language_info": {
   "codemirror_mode": {
    "name": "ipython",
    "version": 3
   },
   "file_extension": ".py",
   "mimetype": "text/x-python",
   "name": "python",
   "nbconvert_exporter": "python",
   "pygments_lexer": "ipython3",
   "version": "3.13.0"
  }
 },
 "nbformat": 4,
 "nbformat_minor": 2
}
