{
 "cells": [
  {
   "cell_type": "markdown",
   "metadata": {},
   "source": [
    "## 변수의 선언과 사용\n",
    "\n",
    "Python은 Java, C+++과 달리 변수 선언 없이 사용 가능\n",
    "\n",
    "[java] int a = 5;  <-- int형 데이터만 할당 가능>\n",
    "\n",
    "[python] a = 5     <-- 할당된 값에 따라 자동으로 타입 변함>"
   ]
  },
  {
   "cell_type": "code",
   "execution_count": 3,
   "metadata": {},
   "outputs": [],
   "source": [
    "varBool = True\n",
    "varInt = 1\n",
    "varFloat = 1.0\n",
    "varString = \"hello\""
   ]
  },
  {
   "cell_type": "markdown",
   "metadata": {},
   "source": [
    "type( ) : 변수의 데이터 타입 반환"
   ]
  },
  {
   "cell_type": "code",
   "execution_count": 5,
   "metadata": {},
   "outputs": [
    {
     "name": "stdout",
     "output_type": "stream",
     "text": [
      "<class 'bool'>\n",
      "<class 'int'>\n",
      "<class 'float'>\n",
      "<class 'str'>\n"
     ]
    }
   ],
   "source": [
    "print(type(varBool))\n",
    "print(type(varInt))\n",
    "print(type(varFloat))\n",
    "print(type(varString))"
   ]
  },
  {
   "cell_type": "code",
   "execution_count": 6,
   "metadata": {},
   "outputs": [],
   "source": [
    "var1 = var2 = var3 = var4 = 100\n",
    "var1 = True\n",
    "# Python의 동적 타입 변환이 사용하기에는 편리\n",
    "# 하지만 메모리 관리 차원에서는 단점"
   ]
  },
  {
   "cell_type": "markdown",
   "metadata": {},
   "source": [
    "## 진수 변환"
   ]
  },
  {
   "cell_type": "markdown",
   "metadata": {},
   "source": [
    "bin( ) : 2진수(0b)로 변환\n",
    "\n",
    "oct( ) : 8진주(0o)로 변환\n",
    "\n",
    "hex( ) : 16진수(0x)로 변환"
   ]
  },
  {
   "cell_type": "code",
   "execution_count": 8,
   "metadata": {},
   "outputs": [
    {
     "name": "stdout",
     "output_type": "stream",
     "text": [
      "0b1010\n",
      "0o12\n",
      "0xa\n"
     ]
    }
   ],
   "source": [
    "n = 10\n",
    "print(bin(n))\n",
    "print(oct(n))\n",
    "print(hex(n))"
   ]
  },
  {
   "cell_type": "code",
   "execution_count": 10,
   "metadata": {},
   "outputs": [
    {
     "name": "stdout",
     "output_type": "stream",
     "text": [
      "2 8 16\n"
     ]
    }
   ],
   "source": [
    "# 2진수, 8진수, 16진수로 값 저장 가능\n",
    "bin_num = 0b10\n",
    "oct_num = 0o10\n",
    "hex_num = 0x10\n",
    "\n",
    "print(bin_num, oct_num, hex_num)"
   ]
  },
  {
   "cell_type": "markdown",
   "metadata": {},
   "source": [
    "## 숫자 연산"
   ]
  },
  {
   "cell_type": "code",
   "execution_count": null,
   "metadata": {},
   "outputs": [
    {
     "name": "stdout",
     "output_type": "stream",
     "text": [
      "20 + 3 = 23\n",
      "20 - 3 = 17\n",
      "20 * 3 = 60\n",
      "20 / 3 = 6.666667\n",
      "20 / 3의 몫은 6\n",
      "20 / 3의 나머지는 2\n",
      "20의 3제곱은 8000\n"
     ]
    }
   ],
   "source": [
    "a = 20\n",
    "b = 3\n",
    "\n",
    "# 사칙연산\n",
    "print(\"%d + %d = %d\" % (a, b, a+b))\n",
    "print(\"%d - %d = %d\" % (a, b, a-b))\n",
    "print(\"%d * %d = %d\" % (a, b, a*b))\n",
    "print(\"%d / %d = %f\" % (a, b, a/b))\n",
    "# 몫 : //\n",
    "print(\"%d / %d의 몫은 %d\" % (a, b, a//b))\n",
    "# 나머지 : %\n",
    "print(\"%d / %d의 나머지는 %d\" % (a, b, a%b))\n",
    "# 거듭제곱 : **\n",
    "print(\"%d의 %d제곱은 %d\" % (a, b, a**b))"
   ]
  },
  {
   "cell_type": "code",
   "execution_count": null,
   "metadata": {},
   "outputs": [],
   "source": []
  }
 ],
 "metadata": {
  "kernelspec": {
   "display_name": "Python 3",
   "language": "python",
   "name": "python3"
  },
  "language_info": {
   "codemirror_mode": {
    "name": "ipython",
    "version": 3
   },
   "file_extension": ".py",
   "mimetype": "text/x-python",
   "name": "python",
   "nbconvert_exporter": "python",
   "pygments_lexer": "ipython3",
   "version": "3.13.0"
  }
 },
 "nbformat": 4,
 "nbformat_minor": 2
}
